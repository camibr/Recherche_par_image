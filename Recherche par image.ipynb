{
 "cells": [
  {
   "cell_type": "code",
   "execution_count": 1,
   "id": "1849e28f",
   "metadata": {},
   "outputs": [],
   "source": []
  },
  {
   "cell_type": "code",
   "execution_count": null,
   "id": "87abc2ad",
   "metadata": {},
   "outputs": [],
   "source": []
  },
  {
   "cell_type": "code",
   "execution_count": null,
   "id": "b0d07899",
   "metadata": {},
   "outputs": [],
   "source": []
  },
  {
   "cell_type": "code",
   "execution_count": null,
   "id": "443fb358",
   "metadata": {},
   "outputs": [],
   "source": [
    "import numpy as np\n",
    "import os       # to work with files\n",
    "import cv2      # to read and resize images\n",
    "import matplotlib.pyplot as plt\n",
    "import pandas as pd\n",
    "import pickle   # for storage option\n",
    "\n",
    "#import tensorflow.compat.v1 as tf\n",
    "#tf.disable_v2_behavior()\n",
    "#(or)\n",
    "#tf.compat.v1.disable_v2_behavior()\n",
    "#from tensorflow import keras\n",
    "#from tqdm import tqdm_notebook   # help visualize training process\n",
    "from tqdm.notebook import tqdm_notebook\n",
    "from scipy.spatial.distance import hamming, cosine   # to compare vectors\n",
    "\n",
    "# keep all the visualizations into the notebook file\n",
    "%matplotlib inline"
   ]
  },
  {
   "cell_type": "markdown",
   "id": "9e1a3bdc",
   "metadata": {},
   "source": [
    "### Data preprocessing\n",
    "###### Load image + Preprocess dataset"
   ]
  },
  {
   "cell_type": "markdown",
   "id": "ffa5c10b",
   "metadata": {},
   "source": [
    "##### 1 - Load image"
   ]
  },
  {
   "cell_type": "code",
   "execution_count": 2,
   "id": "45c3d282",
   "metadata": {},
   "outputs": [],
   "source": [
    "def image_loader(image_path, image_size):\n",
    "    '''\n",
    "    Load an image from the disk.\n",
    "    \n",
    "    image_path:string -> path to the image\n",
    "    image_size:tuple -> size of an output image, example : (32, 32)\n",
    "    '''\n",
    "    \n",
    "    # to read an image from the disk\n",
    "    image = cv2.imread(image_path)\n",
    "    \n",
    "    # cv2 library loads images in BGR format, need to convert it to RGB\n",
    "    image = cv2.cvtColor(image, cv2.COLOR_BGR2RGB)\n",
    "    \n",
    "    # resizing the image\n",
    "    # here we use CUBIC interpolation (way to fill a missing data) to resize the image\n",
    "    image = cv2.resize(image, image_size, cv2.INTER_CUBIC)\n",
    "    \n",
    "    return image    "
   ]
  },
  {
   "cell_type": "markdown",
   "id": "d8e3465f",
   "metadata": {},
   "source": [
    "##### 2 - Preprocess dataset"
   ]
  },
  {
   "cell_type": "code",
   "execution_count": 3,
   "id": "183f9b61",
   "metadata": {},
   "outputs": [],
   "source": [
    "def dataset_preprocessing(dataset_path, labels_file_path, image_size, image_paths_pickle):\n",
    "    '''\n",
    "    Load images and labels from the folder containing the dataset.\n",
    "    \n",
    "    dataset_path:string -> path to the train/test dataset folder\n",
    "    labels_file_path:string -> path to the .txt file containing classes names\n",
    "    image_size:tuple -> single image size\n",
    "    image_paths_pickle:string -> name of a pickle file where all image paths will be saved\n",
    "    '''\n",
    "    \n",
    "    # get all classes in the dataset\n",
    "    with open(labels_file_path, \"r\") as f:\n",
    "        classes = f.read().split(\"\\n\")[:-1]  # list of all 10 classes. each line is a class name.\n",
    "        # [:-1] to remove the last element which is a \"\"\n",
    "    #print(classes)\n",
    "    \n",
    "    images = []  # hold all the images\n",
    "    labels = []  # hold all respective classes for each image\n",
    "    image_paths = []   # hold path for each image, list is stored in the pickle file\n",
    "    \n",
    "    # go through all the images in the dataset folder\n",
    "    for image_name in os.listdir(dataset_path):\n",
    "        try:\n",
    "            image_path = os.path.join(dataset_path, image_name)   # example : cifar/train/0_frog.png\n",
    "            images.append(image_loader(image_path, image_size))\n",
    "            image_paths.append(image_path)  # append the images' paths to the paths list\n",
    "            \n",
    "            # go through all the classes and check if the class name appears in the image name\n",
    "            for index in range(len(classes)):\n",
    "                if classes[index] in image_name:   # ex° : if 'frog' is in '0_frog.png'\n",
    "                    labels.append(index)   # if there's a match, we append the index in the list of labels\n",
    "                    # labels are encoded in this list\n",
    "                    \n",
    "        except:\n",
    "            pass\n",
    "    \n",
    "    # save all the paths in the pickle\n",
    "    with open(image_paths_pickle + \".pickle\", \"wb\") as f:\n",
    "        pickle.dump(image_paths, f)\n",
    "    \n",
    "    assert len(images) == len(labels)   # make sure same amount of elements in 'images' and 'labels' lists\n",
    "    # if this statement is false, the rest of the code won't be executed.\n",
    "    \n",
    "    return np.array(images), np.array(labels)\n",
    "\n",
    "    "
   ]
  },
  {
   "cell_type": "code",
   "execution_count": 33,
   "id": "00621092",
   "metadata": {},
   "outputs": [
    {
     "data": {
      "text/plain": [
       "array([6, 1, 6, ..., 5, 1, 3])"
      ]
     },
     "execution_count": 33,
     "metadata": {},
     "output_type": "execute_result"
    }
   ],
   "source": [
    "np.array(labels)"
   ]
  },
  {
   "cell_type": "code",
   "execution_count": 4,
   "id": "99476374",
   "metadata": {},
   "outputs": [],
   "source": [
    "images, labels = dataset_preprocessing(\"cifar/train/\", \\\n",
    "                      \"cifar/labels.txt\", \\\n",
    "                      (32, 32), \\\n",
    "                      \"cifar/training_images_pickle\"                      \n",
    "                     )\n",
    "\n",
    "#(takes some time)"
   ]
  },
  {
   "cell_type": "code",
   "execution_count": 5,
   "id": "80c70cdd",
   "metadata": {},
   "outputs": [
    {
     "data": {
      "text/plain": [
       "(50000, 32, 32, 3)"
      ]
     },
     "execution_count": 5,
     "metadata": {},
     "output_type": "execute_result"
    }
   ],
   "source": [
    "images.shape\n",
    "# (50000, 32, 32, 3)\n",
    "# there are 50000 images of size 32x32 in RGB format"
   ]
  },
  {
   "cell_type": "markdown",
   "id": "1456b56a",
   "metadata": {},
   "source": [
    "### Vectors distances functions"
   ]
  },
  {
   "cell_type": "code",
   "execution_count": 6,
   "id": "5eb6ad19",
   "metadata": {},
   "outputs": [],
   "source": [
    "# Cosine distance\n",
    "# to compare images -> see similarities between vectors by measuring the cosine distance\n",
    "'''\n",
    "Calculates cosine distances between query image (vectors) and all training set images (vectors).\n",
    "\n",
    "training_set_vectors:numpy Matrix -> vectors for all images in the training set\n",
    "query_vector:numpy vector -> query image (new image) vector\n",
    "top_n=50:integer -> nb of closest images to return\n",
    "'''\n",
    "\n",
    "def cosine_distance(training_set_vectors, query_vector, top_n=50):\n",
    "    \n",
    "    distances = []   # all the calculated distances stored in the list\n",
    "    \n",
    "    for i in range(len(training_set_vectors)):   # 50.000 images for Cifar-10 ds\n",
    "        distances.append(cosine(training_set_vectors[i], query_vector[0]))    # cosine(u, v)\n",
    "        \n",
    "    return np.argsort(distances)[:top_n]   #sorted indices\n",
    "    # takes an array and sort it, and returns sorted indices instead of a sorted array\n"
   ]
  },
  {
   "cell_type": "code",
   "execution_count": 7,
   "id": "4a3aa893",
   "metadata": {},
   "outputs": [],
   "source": [
    "# Hamming distance\n",
    "# works in binary vectors only, unlike cosine distance\n",
    "'''\n",
    "Calculates hamming distances between query image (vectors) and all training set images (vectors).\n",
    "\n",
    "training_set_vectors:numpy Matrix -> vectors for all images in the training set\n",
    "query_vector:numpy vector -> query image (new image) vector\n",
    "top_n=50:integer -> nb of closest images to return\n",
    "'''\n",
    "\n",
    "def hamming_distance(training_set_vectors, query_vector, top_n=50):\n",
    "    \n",
    "    distances = [] \n",
    "    \n",
    "    for i in range(len(training_set_vectors)):   # 50.000 images for Cifar-10 ds\n",
    "        distances.append(hamming(training_set_vectors[i], query_vector))  \n",
    "        \n",
    "    return np.argsort(distances)[:top_n]  \n"
   ]
  },
  {
   "cell_type": "markdown",
   "id": "5d27ae2b",
   "metadata": {},
   "source": [
    "### Accuracy function"
   ]
  },
  {
   "cell_type": "code",
   "execution_count": 8,
   "id": "f1d8726d",
   "metadata": {},
   "outputs": [],
   "source": [
    "# Sparse accuracy to check how accurate our model is (how often it predicts the correct class)\n",
    "''' \n",
    "Calculates accuracy of a model based on softmax outputs.\n",
    "\n",
    "true_label:numpy array -> real labels of each sample\n",
    "predicted_labels:numpy matrix -> softmax probabilities\n",
    "'''\n",
    "\n",
    "def sparse_accuracy(true_labels, predicted_labels):\n",
    "    \n",
    "    assert len(true_labels) == len(predicted_labels)\n",
    "    \n",
    "    correct = 0\n",
    "    for i in range(len(true_labels)):\n",
    "        if np.argmax(predicted_labels[i]) == true_labels[i]:\n",
    "        # takes an array and return index of highest proba and compare it to the index of the true label\n",
    "        # if true, add one to the correct predictions\n",
    "            correct += 1\n",
    "        \n",
    "    return correct / len(true_labels)"
   ]
  },
  {
   "cell_type": "markdown",
   "id": "612fe059",
   "metadata": {},
   "source": [
    "### Model inputs function"
   ]
  },
  {
   "cell_type": "code",
   "execution_count": 9,
   "id": "1e006c76",
   "metadata": {},
   "outputs": [
    {
     "name": "stdout",
     "output_type": "stream",
     "text": [
      "2.4.1\n"
     ]
    }
   ],
   "source": [
    "import tensorflow.compat.v1 as tf   # by default in TF2, tf.executing_eagerly() -> True\n",
    "print(tf.__version__)"
   ]
  },
  {
   "cell_type": "code",
   "execution_count": 10,
   "id": "2a8f9583",
   "metadata": {},
   "outputs": [
    {
     "name": "stdout",
     "output_type": "stream",
     "text": [
      "WARNING:tensorflow:From C:\\Users\\camib\\anaconda3\\lib\\site-packages\\tensorflow\\python\\compat\\v2_compat.py:96: disable_resource_variables (from tensorflow.python.ops.variable_scope) is deprecated and will be removed in a future version.\n",
      "Instructions for updating:\n",
      "non-resource variables are not supported in the long term\n"
     ]
    },
    {
     "data": {
      "text/plain": [
       "False"
      ]
     },
     "execution_count": 10,
     "metadata": {},
     "output_type": "execute_result"
    }
   ],
   "source": [
    "tf.disable_v2_behavior()   # that makes tf.executing_eagerly() -> False\n",
    "#tf.enable_eager_execution()   # that re-makes tf.executing_eagerly() -> True again\n",
    "tf.executing_eagerly()"
   ]
  },
  {
   "cell_type": "code",
   "execution_count": 11,
   "id": "4c2f4ec7",
   "metadata": {},
   "outputs": [],
   "source": [
    "def model_inputs(image_size):\n",
    "    '''\n",
    "    Define CNN inputs (placeholders).\n",
    "    \n",
    "    image_size:tuple -> (height, width) of an image  # here (32, 32)\n",
    "    '''\n",
    "    \n",
    "    # for TensorFlow 1 :\n",
    "    # placeholder that receives the images\n",
    "    inputs = tf.compat.v1.placeholder(dtype=tf.float32, shape=[None, image_size[0], image_size[1], 3], name='images')\n",
    "    # 'None' is the Batch size and it allows us to import any nb of images\n",
    "    \n",
    "    targets = tf.compat.v1.placeholder(dtype=tf.int32, shape=[None], name='targets')\n",
    "    \n",
    "    dropout_rate = tf.compat.v1.placeholder(dtype=tf.float32, name='dropout_rate')\n",
    "\n",
    "    return inputs, targets, dropout_rate"
   ]
  },
  {
   "cell_type": "markdown",
   "id": "fa91b0de",
   "metadata": {},
   "source": [
    "### Convolutional block function"
   ]
  },
  {
   "cell_type": "code",
   "execution_count": 12,
   "id": "fd2255af",
   "metadata": {},
   "outputs": [],
   "source": [
    "# Convolutional block function\n",
    "\n",
    "def conv_block(inputs,\n",
    "               number_of_filters,\n",
    "               kernel_size,\n",
    "               strides=(1, 1),\n",
    "               padding='SAME',\n",
    "               activation=tf.nn.relu,\n",
    "               max_pool=True,\n",
    "               batch_norm=True):\n",
    "        \n",
    "    '''\n",
    "    Defines convolutional block layer.\n",
    "    \n",
    "    inputs -> data from previous layer\n",
    "    number_of_filters:integer -> number of conv filters\n",
    "    kernel_size:tuple -> size of conv layer kernel\n",
    "    padding:string -> type of padding techniques: SAME or VALID\n",
    "    activation:tf.object -> activ function used on the layer\n",
    "    max_pool:boolean -> if True the conv block will use batch norm\n",
    "    '''\n",
    "        \n",
    "    conv_features = layer = tf.layers.conv2d(inputs=inputs, \n",
    "                                             filters=number_of_filters, \n",
    "                                             kernel_size=kernel_size, \n",
    "                                             strides=strides, \n",
    "                                             padding=padding,\n",
    "                                             activation=activation)\n",
    "    \n",
    "    if max_pool:\n",
    "        layer = tf.layers.max_pooling2d(layer,\n",
    "                                        pool_size=(2, 2),\n",
    "                                        strides=(2, 2),\n",
    "                                        padding='SAME')    \n",
    "        \n",
    "    if batch_norm:\n",
    "        layer = tf.layers.batch_normalization(layer)\n",
    "        \n",
    "        \n",
    "    return layer, conv_features\n"
   ]
  },
  {
   "cell_type": "markdown",
   "id": "4e618354",
   "metadata": {},
   "source": [
    "### Dense block function (fully connected layers)"
   ]
  },
  {
   "cell_type": "code",
   "execution_count": 13,
   "id": "0b115952",
   "metadata": {},
   "outputs": [],
   "source": [
    "#@tf.function\n",
    "def dense_block(inputs, \n",
    "                units, \n",
    "                activation=tf.nn.relu, \n",
    "                dropout_rate=None, \n",
    "                batch_norm=True):\n",
    "\n",
    "    '''\n",
    "    Defines dense block layer.\n",
    "    \n",
    "    inputs -> data from previous layer\n",
    "    units:integer -> nb of neurons/units for a dense layer\n",
    "    activation:tf.object -> activ function used on the layer\n",
    "    dropout_rate -> dropout rate used in this dense block\n",
    "    batch_norm:boolean -> if True the conv block will use batch normalization\n",
    "    '''\n",
    "        \n",
    "    dense_features = layer = tf.layers.dense(inputs=inputs,\n",
    "                                                   units=units,\n",
    "                                                   activation=activation)\n",
    "    \n",
    "\n",
    "        \n",
    "    if dropout_rate is not None:\n",
    "        layer = tf.layers.dropout(layer,\n",
    "                                  rate=dropout_rate)\n",
    "                                         \n",
    "    \n",
    "    if batch_norm:\n",
    "        layer = tf.layers.batch_normalization(layer)\n",
    "\n",
    "    return layer, dense_features\n",
    "    "
   ]
  },
  {
   "cell_type": "markdown",
   "id": "65a6d2b5",
   "metadata": {},
   "source": [
    "### Optimization and loss functions"
   ]
  },
  {
   "cell_type": "code",
   "execution_count": 14,
   "id": "6ba2825a",
   "metadata": {},
   "outputs": [],
   "source": [
    "def opt_loss(logits,\n",
    "            targets,\n",
    "            learning_rate):\n",
    "    \n",
    "    '''\n",
    "    Defines model's optimizer and loss functions.\n",
    "    \n",
    "    logits -> pre-activated outputs from the last layer of the model\n",
    "    targets -> true labels for each input sample\n",
    "    learning_rate\n",
    "    '''\n",
    "\n",
    "    # sparse -> we don't have to convert our targets to one hot encoding versions\n",
    "    loss = tf.reduce_mean(tf.nn.sparse_softmax_cross_entropy_with_logits(labels=targets, logits=logits))\n",
    "    \n",
    "    optimizer = tf.train.AdamOptimizer(learning_rate).minimize(loss)\n",
    "    \n",
    "    return loss, optimizer"
   ]
  },
  {
   "cell_type": "markdown",
   "id": "b315745d",
   "metadata": {},
   "source": [
    "### Model architecture"
   ]
  },
  {
   "cell_type": "code",
   "execution_count": 15,
   "id": "85862f29",
   "metadata": {},
   "outputs": [],
   "source": [
    "class ImageSearchModel(object):\n",
    "    \n",
    "    def __init__(self,\n",
    "                learning_rate,\n",
    "                image_size,\n",
    "                number_of_classes=10):\n",
    "        '''\n",
    "        Defines CNN model.\n",
    "        \n",
    "        learning_rate\n",
    "        image_size:tuple -> (height, width) of an image\n",
    "        number_of_classes:integer -> nb of classes in a ds\n",
    "        '''\n",
    "\n",
    "        # reset the tensorflow graph each time the model is defined to avoid nested models\n",
    "        #tf.reset_default_graph()\n",
    "        #tf.compat.v1.reset_default_graph()\n",
    "        \n",
    "        # define model inputs\n",
    "        self.inputs, self.targets, self.dropout_rate = model_inputs(image_size)\n",
    "        # 'model_inputs' function is defined above, it returns 3 elements\n",
    "        \n",
    "        # no function for image normalization so they are between 0 and 255\n",
    "        # to overcome this : batch normalization layer before the conv layer :\n",
    "       \n",
    "        normalized_images = tf.layers.batch_normalization(self.inputs)  #deprecated\n",
    "        \n",
    "        # conv block 1\n",
    "        conv_block_1, self.conv_1_features = conv_block(inputs=normalized_images,\n",
    "                                                        number_of_filters=64,\n",
    "                                                        kernel_size=(3, 3),\n",
    "                                                        strides=(1, 1),\n",
    "                                                        padding='SAME',\n",
    "                                                        activation=tf.nn.relu,\n",
    "                                                        max_pool=True,\n",
    "                                                        batch_norm=True)\n",
    "                                          \n",
    "        # conv block 2\n",
    "        conv_block_2, self.conv_2_features = conv_block(inputs=conv_block_1,\n",
    "                                                       number_of_filters=128,     \n",
    "                                                       kernel_size=(3, 3),\n",
    "                                                       strides=(1, 1),\n",
    "                                                       padding='SAME',\n",
    "                                                       activation=tf.nn.relu,\n",
    "                                                       max_pool=True,\n",
    "                                                       batch_norm=True)\n",
    "        \n",
    "        # conv block 3\n",
    "        conv_block_3, self.conv_3_features = conv_block(inputs=conv_block_2,\n",
    "                                                       number_of_filters=256,     \n",
    "                                                       kernel_size=(5, 5),\n",
    "                                                       strides=(1, 1),\n",
    "                                                       padding='SAME',\n",
    "                                                       activation=tf.nn.relu,\n",
    "                                                       max_pool=True,\n",
    "                                                       batch_norm=True)\n",
    "        \n",
    "        # conv block 4\n",
    "        conv_block_4, self.conv_4_features = conv_block(inputs=conv_block_3,\n",
    "                                                       number_of_filters=512,     \n",
    "                                                       kernel_size=(5, 5),\n",
    "                                                       strides=(1, 1),\n",
    "                                                       padding='SAME',\n",
    "                                                       activation=tf.nn.relu,\n",
    "                                                       max_pool=True,\n",
    "                                                       batch_norm=True)\n",
    "        \n",
    "        # before apply dense block, need to flatten conv features (reshape it to a single vector)\n",
    "        flat_layer = tf.layers.flatten(conv_block_4)\n",
    "        \n",
    "        # dense block 1\n",
    "        dense_block_1, dense_1_features = dense_block(flat_layer,\n",
    "                                                     units=128,\n",
    "                                                     activation=tf.nn.relu,\n",
    "                                                     dropout_rate=self.dropout_rate,\n",
    "                                                     batch_norm=True)\n",
    "        \n",
    "        # dense block 2\n",
    "        dense_block_2, dense_2_features = dense_block(dense_block_1,\n",
    "                                                     units=256,\n",
    "                                                     activation=tf.nn.relu,\n",
    "                                                     dropout_rate=self.dropout_rate,\n",
    "                                                     batch_norm=True)\n",
    "        \n",
    "        # dense block 3\n",
    "        dense_block_3, dense_3_features = dense_block(dense_block_2,\n",
    "                                                     units=512,\n",
    "                                                     activation=tf.nn.relu,\n",
    "                                                     dropout_rate=self.dropout_rate,\n",
    "                                                     batch_norm=True)\n",
    "        \n",
    "        # dense block 4\n",
    "        dense_block_4, dense_4_features = dense_block(dense_block_3,\n",
    "                                                     units=1024,\n",
    "                                                     activation=tf.nn.relu,\n",
    "                                                     dropout_rate=self.dropout_rate,\n",
    "                                                     batch_norm=True)\n",
    "        \n",
    "        logits = tf.layers.dense(inputs=dense_block_4,\n",
    "                                units=number_of_classes,\n",
    "                                activation=None)\n",
    "        \n",
    "        self.predictions = tf.nn.softmax(logits)\n",
    "        \n",
    "        self.loss, self.opt = opt_loss(logits=logits,\n",
    "                                      targets=self.targets,\n",
    "                                      learning_rate=learning_rate)\n"
   ]
  },
  {
   "cell_type": "code",
   "execution_count": 16,
   "id": "954356bc",
   "metadata": {},
   "outputs": [
    {
     "name": "stderr",
     "output_type": "stream",
     "text": [
      "C:\\Users\\camib\\anaconda3\\lib\\site-packages\\tensorflow\\python\\keras\\legacy_tf_layers\\normalization.py:307: UserWarning: `tf.layers.batch_normalization` is deprecated and will be removed in a future version. Please use `tf.keras.layers.BatchNormalization` instead. In particular, `tf.control_dependencies(tf.GraphKeys.UPDATE_OPS)` should not be used (consult the `tf.keras.layers.BatchNormalization` documentation).\n",
      "  warnings.warn(\n",
      "C:\\Users\\camib\\anaconda3\\lib\\site-packages\\tensorflow\\python\\keras\\engine\\base_layer_v1.py:1719: UserWarning: `layer.apply` is deprecated and will be removed in a future version. Please use `layer.__call__` method instead.\n",
      "  warnings.warn('`layer.apply` is deprecated and '\n",
      "C:\\Users\\camib\\anaconda3\\lib\\site-packages\\tensorflow\\python\\keras\\legacy_tf_layers\\convolutional.py:414: UserWarning: `tf.layers.conv2d` is deprecated and will be removed in a future version. Please Use `tf.keras.layers.Conv2D` instead.\n",
      "  warnings.warn('`tf.layers.conv2d` is deprecated and '\n",
      "C:\\Users\\camib\\anaconda3\\lib\\site-packages\\tensorflow\\python\\keras\\legacy_tf_layers\\pooling.py:310: UserWarning: `tf.layers.max_pooling2d` is deprecated and will be removed in a future version. Please use `tf.keras.layers.MaxPooling2D` instead.\n",
      "  warnings.warn('`tf.layers.max_pooling2d` is deprecated and '\n",
      "C:\\Users\\camib\\anaconda3\\lib\\site-packages\\tensorflow\\python\\keras\\legacy_tf_layers\\core.py:329: UserWarning: `tf.layers.flatten` is deprecated and will be removed in a future version. Please use `tf.keras.layers.Flatten` instead.\n",
      "  warnings.warn('`tf.layers.flatten` is deprecated and '\n",
      "C:\\Users\\camib\\anaconda3\\lib\\site-packages\\tensorflow\\python\\keras\\legacy_tf_layers\\core.py:171: UserWarning: `tf.layers.dense` is deprecated and will be removed in a future version. Please use `tf.keras.layers.Dense` instead.\n",
      "  warnings.warn('`tf.layers.dense` is deprecated and '\n",
      "C:\\Users\\camib\\anaconda3\\lib\\site-packages\\tensorflow\\python\\keras\\legacy_tf_layers\\core.py:268: UserWarning: `tf.layers.dropout` is deprecated and will be removed in a future version. Please use `tf.keras.layers.Dropout` instead.\n",
      "  warnings.warn('`tf.layers.dropout` is deprecated and '\n"
     ]
    }
   ],
   "source": [
    "model = ImageSearchModel(0.001, (32, 32), 10)"
   ]
  },
  {
   "cell_type": "markdown",
   "id": "cd7fad07",
   "metadata": {},
   "source": [
    "### Training function"
   ]
  },
  {
   "cell_type": "code",
   "execution_count": 17,
   "id": "7112b091",
   "metadata": {},
   "outputs": [],
   "source": [
    "def train(model,\n",
    "         epochs,\n",
    "         drop_rate,\n",
    "         batch_size,\n",
    "         data,\n",
    "         save_dir,\n",
    "         saver_delta=0.15):\n",
    "    \n",
    "    '''\n",
    "    Train the model.\n",
    "    \n",
    "    model -> CNN model\n",
    "    epochs:int -> nb of epochs\n",
    "    drop_rate:float -> dropout rate\n",
    "    batch_size:int -> nb of samples to put through the model at once\n",
    "    data:tuple -> train/test data , ex° X_train, y_train, X_test, y_test\n",
    "    save_dir:string -> path to a folder where model checkpoints will be saved\n",
    "    saver_delta:float -> trick used to prevet overfitted model to be saved\n",
    "    '''\n",
    "    \n",
    "    X_train, y_train, X_test, y_test\n",
    "    \n",
    "    # start tensorflow session\n",
    "    session = tf.Session()\n",
    "    session.run(tf.global_variables_initializer())   # initialize all variables of the model\n",
    "    \n",
    "    # define saver\n",
    "    saver = tf.train.Saver()   # if the trained model gives better accuracy than previously we save it\n",
    "    \n",
    "    best_test_accuracy = 0    # initialized to zero. It help us to decide whether we should save the model or not\n",
    "    \n",
    "    # Train the model\n",
    "    for epoch in range(epochs):\n",
    "        train_accuracy = []\n",
    "        train_loss = []\n",
    "        \n",
    "        # split the set into batches\n",
    "        for ii in tqdm_notebook(range(len(X_train) // batch_size)):\n",
    "            start_id = ii * batch_size\n",
    "            end_id = start_id + batch_size\n",
    "            \n",
    "            X_batch = X_train[start_id:end_id]\n",
    "            y_batch = y_train[start_id:end_id]\n",
    "            # so that now we have a batch of data prepared to feed the model\n",
    "            \n",
    "            feed_dict = {model.inputs:X_batch,\n",
    "                        model.targets:y_batch,\n",
    "                        model.dropout_rate:drop_rate}\n",
    "            \n",
    "            # we try to optimize our model using the batch of data\n",
    "            # we return the optimizer, loss and predictions for the batch of data\n",
    "            # 'session.run' to run the optimization step. (Second argument is to provide the data)\n",
    "            _, training_loss, training_predictions = session.run([model.opt, model.loss, model.predictions], feed_dict=feed_dict)\n",
    "            \n",
    "            # we append the results to the accuracy list and loss list\n",
    "            train_accuracy.append(sparse_accuracy(y_batch, training_predictions))\n",
    "            train_loss.append(training_loss)\n",
    "            \n",
    "        print(\"Epoch: {}/{}\".format(epoch, epochs),\n",
    "             \" | Training accuracy: {}\".format(np.mean(train_accuracy)),\n",
    "             \" | Training loss: {}\".format(np.mean(train_loss)) )\n",
    "        \n",
    "        \n",
    "        # Test the model\n",
    "        test_accuracy = []\n",
    "\n",
    "        for ii in tqdm_notebook(range(len(X_test) // batch_size)):\n",
    "            start_id = ii * batch_size\n",
    "            end_id = start_id + batch_size\n",
    "\n",
    "            X_batch = X_test[start_id:end_id]\n",
    "            y_batch = y_test[start_id:end_id]\n",
    "\n",
    "            # for testing process we only need the predictions, not the targets anymore\n",
    "            # we set the dropout rate to zero. We thus get all weights without dropping any\n",
    "            feed_dict = {model.inputs:X_batch,\n",
    "                                model.dropout_rate:0.0}\n",
    "\n",
    "            test_predictions = session.run(model.predictions, feed_dict=feed_dict)\n",
    "            test_accuracy.append(sparse_accuracy(y_batch, test_predictions))  # test accuracy between true targets and predictions\n",
    "\n",
    "        print(\"Test accuracy: {}\".format(np.mean(test_accuracy)))\n",
    "\n",
    "                \n",
    "        # Saving the model\n",
    "        # check if the training accuracy is higher than the test accuracy\n",
    "        # it avoids saving underfitted model\n",
    "        # and overfitted model (thanks to a delta)\n",
    "\n",
    "        if np.mean(train_accuracy) > np.mean(test_accuracy):\n",
    "            if np.abs(np.mean(train_accuracy) - np.mean(test_accuracy)) <= saver_delta:\n",
    "                if np.mean(test_accuracy) >= best_test_accuracy:\n",
    "                    best_test_accuracy = np.mean(test_accuracy)\n",
    "                    saver.save(session, \"{}/model_epoch_{}.ckpt\".format(save_dir, epoch))  # save the model\n",
    "                    # 'ckpt' is checkpoint\n",
    "\n",
    "    session.close()"
   ]
  },
  {
   "cell_type": "markdown",
   "id": "535c4df5",
   "metadata": {},
   "source": [
    "### Training the model\n",
    "#### Setting hyperparameters and training the model"
   ]
  },
  {
   "cell_type": "code",
   "execution_count": 18,
   "id": "1f456277",
   "metadata": {},
   "outputs": [],
   "source": [
    "epochs = 20\n",
    "batch_size = 128\n",
    "learning_rate = 0.001\n",
    "dropout_rate = 0.6\n",
    "image_size = (32, 32)  # for Cifar-10 ds"
   ]
  },
  {
   "cell_type": "code",
   "execution_count": 19,
   "id": "0fd8d74f",
   "metadata": {},
   "outputs": [],
   "source": [
    "X_train, y_train = dataset_preprocessing(\"cifar/train/\", \"cifar/labels.txt\", image_size=image_size, image_paths_pickle=\"train_images_pickle\")"
   ]
  },
  {
   "cell_type": "code",
   "execution_count": 20,
   "id": "93e694f6",
   "metadata": {},
   "outputs": [
    {
     "data": {
      "text/plain": [
       "(50000, 32, 32, 3)"
      ]
     },
     "execution_count": 20,
     "metadata": {},
     "output_type": "execute_result"
    }
   ],
   "source": [
    "X_train.shape"
   ]
  },
  {
   "cell_type": "code",
   "execution_count": 21,
   "id": "9b8e54e6",
   "metadata": {},
   "outputs": [],
   "source": [
    "X_test, y_test = dataset_preprocessing(\"cifar/test/\", \"cifar/labels.txt\", image_size=image_size, image_paths_pickle=\"test_images_pickle\")"
   ]
  },
  {
   "cell_type": "code",
   "execution_count": 22,
   "id": "a5d2319f",
   "metadata": {},
   "outputs": [
    {
     "data": {
      "text/plain": [
       "(10000, 32, 32, 3)"
      ]
     },
     "execution_count": 22,
     "metadata": {},
     "output_type": "execute_result"
    }
   ],
   "source": [
    "X_test.shape"
   ]
  },
  {
   "cell_type": "code",
   "execution_count": 23,
   "id": "c844d04e",
   "metadata": {},
   "outputs": [],
   "source": [
    "# Define the model\n",
    "model = ImageSearchModel(learning_rate=learning_rate, image_size=image_size)"
   ]
  },
  {
   "cell_type": "code",
   "execution_count": 24,
   "id": "d58f96a1",
   "metadata": {},
   "outputs": [],
   "source": [
    "data = (X_train, y_train, X_test, y_test)   # tuple, consists in all training and test subsets"
   ]
  },
  {
   "cell_type": "code",
   "execution_count": 25,
   "id": "d6687bfd",
   "metadata": {},
   "outputs": [
    {
     "data": {
      "application/vnd.jupyter.widget-view+json": {
       "model_id": "c6ffe527b1b54b9e9f54f6dea40114d5",
       "version_major": 2,
       "version_minor": 0
      },
      "text/plain": [
       "  0%|          | 0/390 [00:00<?, ?it/s]"
      ]
     },
     "metadata": {},
     "output_type": "display_data"
    },
    {
     "name": "stdout",
     "output_type": "stream",
     "text": [
      "Epoch: 0/20  | Training accuracy: 0.37029246794871795  | Training loss: 1.8305789232254028\n"
     ]
    },
    {
     "data": {
      "application/vnd.jupyter.widget-view+json": {
       "model_id": "592dfc0df73745718f014bd8acc3cd31",
       "version_major": 2,
       "version_minor": 0
      },
      "text/plain": [
       "  0%|          | 0/78 [00:00<?, ?it/s]"
      ]
     },
     "metadata": {},
     "output_type": "display_data"
    },
    {
     "name": "stdout",
     "output_type": "stream",
     "text": [
      "Test accuracy: 0.5176282051282052\n"
     ]
    },
    {
     "data": {
      "application/vnd.jupyter.widget-view+json": {
       "model_id": "171b8703d63f49c388c96b8550b93362",
       "version_major": 2,
       "version_minor": 0
      },
      "text/plain": [
       "  0%|          | 0/390 [00:00<?, ?it/s]"
      ]
     },
     "metadata": {},
     "output_type": "display_data"
    },
    {
     "name": "stdout",
     "output_type": "stream",
     "text": [
      "Epoch: 1/20  | Training accuracy: 0.5631009615384616  | Training loss: 1.2127759456634521\n"
     ]
    },
    {
     "data": {
      "application/vnd.jupyter.widget-view+json": {
       "model_id": "3dc5a6e7460646e0a3a03291ea907aac",
       "version_major": 2,
       "version_minor": 0
      },
      "text/plain": [
       "  0%|          | 0/78 [00:00<?, ?it/s]"
      ]
     },
     "metadata": {},
     "output_type": "display_data"
    },
    {
     "name": "stdout",
     "output_type": "stream",
     "text": [
      "Test accuracy: 0.6122796474358975\n"
     ]
    },
    {
     "data": {
      "application/vnd.jupyter.widget-view+json": {
       "model_id": "c6a1b7f7b64e456d955d4e5fd29d736f",
       "version_major": 2,
       "version_minor": 0
      },
      "text/plain": [
       "  0%|          | 0/390 [00:00<?, ?it/s]"
      ]
     },
     "metadata": {},
     "output_type": "display_data"
    },
    {
     "name": "stdout",
     "output_type": "stream",
     "text": [
      "Epoch: 2/20  | Training accuracy: 0.6379206730769231  | Training loss: 1.0180567502975464\n"
     ]
    },
    {
     "data": {
      "application/vnd.jupyter.widget-view+json": {
       "model_id": "27b10815c72b4396937cd19f629681e4",
       "version_major": 2,
       "version_minor": 0
      },
      "text/plain": [
       "  0%|          | 0/78 [00:00<?, ?it/s]"
      ]
     },
     "metadata": {},
     "output_type": "display_data"
    },
    {
     "name": "stdout",
     "output_type": "stream",
     "text": [
      "Test accuracy: 0.6612580128205128\n"
     ]
    },
    {
     "data": {
      "application/vnd.jupyter.widget-view+json": {
       "model_id": "7745d0b349a74528a637c81e10ebaf41",
       "version_major": 2,
       "version_minor": 0
      },
      "text/plain": [
       "  0%|          | 0/390 [00:00<?, ?it/s]"
      ]
     },
     "metadata": {},
     "output_type": "display_data"
    },
    {
     "name": "stdout",
     "output_type": "stream",
     "text": [
      "Epoch: 3/20  | Training accuracy: 0.6928685897435898  | Training loss: 0.8739132881164551\n"
     ]
    },
    {
     "data": {
      "application/vnd.jupyter.widget-view+json": {
       "model_id": "7fdc4f35072945798c3578b8eeaaf7a0",
       "version_major": 2,
       "version_minor": 0
      },
      "text/plain": [
       "  0%|          | 0/78 [00:00<?, ?it/s]"
      ]
     },
     "metadata": {},
     "output_type": "display_data"
    },
    {
     "name": "stdout",
     "output_type": "stream",
     "text": [
      "Test accuracy: 0.6659655448717948\n"
     ]
    },
    {
     "data": {
      "application/vnd.jupyter.widget-view+json": {
       "model_id": "f97e9a5f5d0340d5a4a4acb9228fbf90",
       "version_major": 2,
       "version_minor": 0
      },
      "text/plain": [
       "  0%|          | 0/390 [00:00<?, ?it/s]"
      ]
     },
     "metadata": {},
     "output_type": "display_data"
    },
    {
     "name": "stdout",
     "output_type": "stream",
     "text": [
      "Epoch: 4/20  | Training accuracy: 0.7274439102564103  | Training loss: 0.7822489142417908\n"
     ]
    },
    {
     "data": {
      "application/vnd.jupyter.widget-view+json": {
       "model_id": "42e8586421bb47b8a34fe8638d08a30d",
       "version_major": 2,
       "version_minor": 0
      },
      "text/plain": [
       "  0%|          | 0/78 [00:00<?, ?it/s]"
      ]
     },
     "metadata": {},
     "output_type": "display_data"
    },
    {
     "name": "stdout",
     "output_type": "stream",
     "text": [
      "Test accuracy: 0.6666666666666666\n"
     ]
    },
    {
     "data": {
      "application/vnd.jupyter.widget-view+json": {
       "model_id": "fca11f16ee6948c89921145e38452cab",
       "version_major": 2,
       "version_minor": 0
      },
      "text/plain": [
       "  0%|          | 0/390 [00:00<?, ?it/s]"
      ]
     },
     "metadata": {},
     "output_type": "display_data"
    },
    {
     "name": "stdout",
     "output_type": "stream",
     "text": [
      "Epoch: 5/20  | Training accuracy: 0.7612379807692308  | Training loss: 0.692674458026886\n"
     ]
    },
    {
     "data": {
      "application/vnd.jupyter.widget-view+json": {
       "model_id": "7802f6e8362047e5a4674b4d2d8be6d7",
       "version_major": 2,
       "version_minor": 0
      },
      "text/plain": [
       "  0%|          | 0/78 [00:00<?, ?it/s]"
      ]
     },
     "metadata": {},
     "output_type": "display_data"
    },
    {
     "name": "stdout",
     "output_type": "stream",
     "text": [
      "Test accuracy: 0.6579527243589743\n"
     ]
    },
    {
     "data": {
      "application/vnd.jupyter.widget-view+json": {
       "model_id": "cc6e55127d5c4230812235cc9b10dc77",
       "version_major": 2,
       "version_minor": 0
      },
      "text/plain": [
       "  0%|          | 0/390 [00:00<?, ?it/s]"
      ]
     },
     "metadata": {},
     "output_type": "display_data"
    },
    {
     "name": "stdout",
     "output_type": "stream",
     "text": [
      "Epoch: 6/20  | Training accuracy: 0.7748397435897436  | Training loss: 0.6480191946029663\n"
     ]
    },
    {
     "data": {
      "application/vnd.jupyter.widget-view+json": {
       "model_id": "c43c26a9817b4bc9b7f8508374f0e3fd",
       "version_major": 2,
       "version_minor": 0
      },
      "text/plain": [
       "  0%|          | 0/78 [00:00<?, ?it/s]"
      ]
     },
     "metadata": {},
     "output_type": "display_data"
    },
    {
     "name": "stdout",
     "output_type": "stream",
     "text": [
      "Test accuracy: 0.6742788461538461\n"
     ]
    },
    {
     "data": {
      "application/vnd.jupyter.widget-view+json": {
       "model_id": "8ba81dfcf3fc450b9ad55c28f6c8578e",
       "version_major": 2,
       "version_minor": 0
      },
      "text/plain": [
       "  0%|          | 0/390 [00:00<?, ?it/s]"
      ]
     },
     "metadata": {},
     "output_type": "display_data"
    },
    {
     "name": "stdout",
     "output_type": "stream",
     "text": [
      "Epoch: 7/20  | Training accuracy: 0.7999599358974359  | Training loss: 0.5765076279640198\n"
     ]
    },
    {
     "data": {
      "application/vnd.jupyter.widget-view+json": {
       "model_id": "999581e0d6e641fb84ae3132da6dc448",
       "version_major": 2,
       "version_minor": 0
      },
      "text/plain": [
       "  0%|          | 0/78 [00:00<?, ?it/s]"
      ]
     },
     "metadata": {},
     "output_type": "display_data"
    },
    {
     "name": "stdout",
     "output_type": "stream",
     "text": [
      "Test accuracy: 0.6743790064102564\n"
     ]
    },
    {
     "data": {
      "application/vnd.jupyter.widget-view+json": {
       "model_id": "bcb9a1b43c9d4ded9be5b74e8bf52be4",
       "version_major": 2,
       "version_minor": 0
      },
      "text/plain": [
       "  0%|          | 0/390 [00:00<?, ?it/s]"
      ]
     },
     "metadata": {},
     "output_type": "display_data"
    },
    {
     "name": "stdout",
     "output_type": "stream",
     "text": [
      "Epoch: 8/20  | Training accuracy: 0.8288661858974359  | Training loss: 0.5025535225868225\n"
     ]
    },
    {
     "data": {
      "application/vnd.jupyter.widget-view+json": {
       "model_id": "48e8d8f3427d4481997e4fb4247a0bbe",
       "version_major": 2,
       "version_minor": 0
      },
      "text/plain": [
       "  0%|          | 0/78 [00:00<?, ?it/s]"
      ]
     },
     "metadata": {},
     "output_type": "display_data"
    },
    {
     "name": "stdout",
     "output_type": "stream",
     "text": [
      "Test accuracy: 0.6785857371794872\n"
     ]
    },
    {
     "data": {
      "application/vnd.jupyter.widget-view+json": {
       "model_id": "8c2ce7771b484bb4b4c1f1118ed2e1de",
       "version_major": 2,
       "version_minor": 0
      },
      "text/plain": [
       "  0%|          | 0/390 [00:00<?, ?it/s]"
      ]
     },
     "metadata": {},
     "output_type": "display_data"
    },
    {
     "name": "stdout",
     "output_type": "stream",
     "text": [
      "Epoch: 9/20  | Training accuracy: 0.8485176282051282  | Training loss: 0.44923463463783264\n"
     ]
    },
    {
     "data": {
      "application/vnd.jupyter.widget-view+json": {
       "model_id": "dd2e3e07d8c340e4a25368259d448b35",
       "version_major": 2,
       "version_minor": 0
      },
      "text/plain": [
       "  0%|          | 0/78 [00:00<?, ?it/s]"
      ]
     },
     "metadata": {},
     "output_type": "display_data"
    },
    {
     "name": "stdout",
     "output_type": "stream",
     "text": [
      "Test accuracy: 0.6707732371794872\n"
     ]
    },
    {
     "data": {
      "application/vnd.jupyter.widget-view+json": {
       "model_id": "53727dd61be24bf69c5decaa911c60f7",
       "version_major": 2,
       "version_minor": 0
      },
      "text/plain": [
       "  0%|          | 0/390 [00:00<?, ?it/s]"
      ]
     },
     "metadata": {},
     "output_type": "display_data"
    },
    {
     "name": "stdout",
     "output_type": "stream",
     "text": [
      "Epoch: 10/20  | Training accuracy: 0.8645833333333334  | Training loss: 0.40070393681526184\n"
     ]
    },
    {
     "data": {
      "application/vnd.jupyter.widget-view+json": {
       "model_id": "cdb4a0b5e9d24f8fba5d52a31535bad3",
       "version_major": 2,
       "version_minor": 0
      },
      "text/plain": [
       "  0%|          | 0/78 [00:00<?, ?it/s]"
      ]
     },
     "metadata": {},
     "output_type": "display_data"
    },
    {
     "name": "stdout",
     "output_type": "stream",
     "text": [
      "Test accuracy: 0.6831931089743589\n"
     ]
    },
    {
     "data": {
      "application/vnd.jupyter.widget-view+json": {
       "model_id": "779c9ef5aadd4b9d83e3c6eda974ec05",
       "version_major": 2,
       "version_minor": 0
      },
      "text/plain": [
       "  0%|          | 0/390 [00:00<?, ?it/s]"
      ]
     },
     "metadata": {},
     "output_type": "display_data"
    },
    {
     "name": "stdout",
     "output_type": "stream",
     "text": [
      "Epoch: 11/20  | Training accuracy: 0.8803886217948718  | Training loss: 0.35366180539131165\n"
     ]
    },
    {
     "data": {
      "application/vnd.jupyter.widget-view+json": {
       "model_id": "b11d1341d5a54db885f0e7ca52a8ac3d",
       "version_major": 2,
       "version_minor": 0
      },
      "text/plain": [
       "  0%|          | 0/78 [00:00<?, ?it/s]"
      ]
     },
     "metadata": {},
     "output_type": "display_data"
    },
    {
     "name": "stdout",
     "output_type": "stream",
     "text": [
      "Test accuracy: 0.6715745192307693\n"
     ]
    },
    {
     "data": {
      "application/vnd.jupyter.widget-view+json": {
       "model_id": "b6bc4cb42afc477e9e6bf84acddda501",
       "version_major": 2,
       "version_minor": 0
      },
      "text/plain": [
       "  0%|          | 0/390 [00:00<?, ?it/s]"
      ]
     },
     "metadata": {},
     "output_type": "display_data"
    },
    {
     "name": "stdout",
     "output_type": "stream",
     "text": [
      "Epoch: 12/20  | Training accuracy: 0.8944110576923077  | Training loss: 0.3094525635242462\n"
     ]
    },
    {
     "data": {
      "application/vnd.jupyter.widget-view+json": {
       "model_id": "b75c3e8478194fe28df24f77d10b6c8b",
       "version_major": 2,
       "version_minor": 0
      },
      "text/plain": [
       "  0%|          | 0/78 [00:00<?, ?it/s]"
      ]
     },
     "metadata": {},
     "output_type": "display_data"
    },
    {
     "name": "stdout",
     "output_type": "stream",
     "text": [
      "Test accuracy: 0.6698717948717948\n"
     ]
    },
    {
     "data": {
      "application/vnd.jupyter.widget-view+json": {
       "model_id": "cbc055f5fc5c4f099218ef6bd5edc69c",
       "version_major": 2,
       "version_minor": 0
      },
      "text/plain": [
       "  0%|          | 0/390 [00:00<?, ?it/s]"
      ]
     },
     "metadata": {},
     "output_type": "display_data"
    },
    {
     "name": "stdout",
     "output_type": "stream",
     "text": [
      "Epoch: 13/20  | Training accuracy: 0.9091546474358975  | Training loss: 0.27019473910331726\n"
     ]
    },
    {
     "data": {
      "application/vnd.jupyter.widget-view+json": {
       "model_id": "adf8855c39dc4e47926d029df72a55f6",
       "version_major": 2,
       "version_minor": 0
      },
      "text/plain": [
       "  0%|          | 0/78 [00:00<?, ?it/s]"
      ]
     },
     "metadata": {},
     "output_type": "display_data"
    },
    {
     "name": "stdout",
     "output_type": "stream",
     "text": [
      "Test accuracy: 0.6707732371794872\n"
     ]
    },
    {
     "data": {
      "application/vnd.jupyter.widget-view+json": {
       "model_id": "c664f847723d406b9b405a1c7f29234a",
       "version_major": 2,
       "version_minor": 0
      },
      "text/plain": [
       "  0%|          | 0/390 [00:00<?, ?it/s]"
      ]
     },
     "metadata": {},
     "output_type": "display_data"
    },
    {
     "name": "stdout",
     "output_type": "stream",
     "text": [
      "Epoch: 14/20  | Training accuracy: 0.9172876602564103  | Training loss: 0.24745886027812958\n"
     ]
    },
    {
     "data": {
      "application/vnd.jupyter.widget-view+json": {
       "model_id": "a4d5b9559be847e6bc8077d2c43f453a",
       "version_major": 2,
       "version_minor": 0
      },
      "text/plain": [
       "  0%|          | 0/78 [00:00<?, ?it/s]"
      ]
     },
     "metadata": {},
     "output_type": "display_data"
    },
    {
     "name": "stdout",
     "output_type": "stream",
     "text": [
      "Test accuracy: 0.664863782051282\n"
     ]
    },
    {
     "data": {
      "application/vnd.jupyter.widget-view+json": {
       "model_id": "6939a03c6eb145f9988ec1336bcdf9c4",
       "version_major": 2,
       "version_minor": 0
      },
      "text/plain": [
       "  0%|          | 0/390 [00:00<?, ?it/s]"
      ]
     },
     "metadata": {},
     "output_type": "display_data"
    },
    {
     "name": "stdout",
     "output_type": "stream",
     "text": [
      "Epoch: 15/20  | Training accuracy: 0.9301682692307692  | Training loss: 0.21402578055858612\n"
     ]
    },
    {
     "data": {
      "application/vnd.jupyter.widget-view+json": {
       "model_id": "df77b41841904c178e0c6726bfbb4dd4",
       "version_major": 2,
       "version_minor": 0
      },
      "text/plain": [
       "  0%|          | 0/78 [00:00<?, ?it/s]"
      ]
     },
     "metadata": {},
     "output_type": "display_data"
    },
    {
     "name": "stdout",
     "output_type": "stream",
     "text": [
      "Test accuracy: 0.6621594551282052\n"
     ]
    },
    {
     "data": {
      "application/vnd.jupyter.widget-view+json": {
       "model_id": "71213efe4dcc4c638ea9fc3ecd2f09e0",
       "version_major": 2,
       "version_minor": 0
      },
      "text/plain": [
       "  0%|          | 0/390 [00:00<?, ?it/s]"
      ]
     },
     "metadata": {},
     "output_type": "display_data"
    },
    {
     "name": "stdout",
     "output_type": "stream",
     "text": [
      "Epoch: 16/20  | Training accuracy: 0.93515625  | Training loss: 0.19842670857906342\n"
     ]
    },
    {
     "data": {
      "application/vnd.jupyter.widget-view+json": {
       "model_id": "fe777ff895c748ea999fed85d61f3f90",
       "version_major": 2,
       "version_minor": 0
      },
      "text/plain": [
       "  0%|          | 0/78 [00:00<?, ?it/s]"
      ]
     },
     "metadata": {},
     "output_type": "display_data"
    },
    {
     "name": "stdout",
     "output_type": "stream",
     "text": [
      "Test accuracy: 0.6813902243589743\n"
     ]
    },
    {
     "data": {
      "application/vnd.jupyter.widget-view+json": {
       "model_id": "b0fe7c1f7cbc45aeac646173499fb13e",
       "version_major": 2,
       "version_minor": 0
      },
      "text/plain": [
       "  0%|          | 0/390 [00:00<?, ?it/s]"
      ]
     },
     "metadata": {},
     "output_type": "display_data"
    },
    {
     "name": "stdout",
     "output_type": "stream",
     "text": [
      "Epoch: 17/20  | Training accuracy: 0.9430889423076924  | Training loss: 0.17440514266490936\n"
     ]
    },
    {
     "data": {
      "application/vnd.jupyter.widget-view+json": {
       "model_id": "85e33461adc94e52bd4828fbaeb8f50c",
       "version_major": 2,
       "version_minor": 0
      },
      "text/plain": [
       "  0%|          | 0/78 [00:00<?, ?it/s]"
      ]
     },
     "metadata": {},
     "output_type": "display_data"
    },
    {
     "name": "stdout",
     "output_type": "stream",
     "text": [
      "Test accuracy: 0.6755809294871795\n"
     ]
    },
    {
     "data": {
      "application/vnd.jupyter.widget-view+json": {
       "model_id": "f7af11c977d442698d70688dd8d93508",
       "version_major": 2,
       "version_minor": 0
      },
      "text/plain": [
       "  0%|          | 0/390 [00:00<?, ?it/s]"
      ]
     },
     "metadata": {},
     "output_type": "display_data"
    },
    {
     "name": "stdout",
     "output_type": "stream",
     "text": [
      "Epoch: 18/20  | Training accuracy: 0.9499599358974359  | Training loss: 0.1524554193019867\n"
     ]
    },
    {
     "data": {
      "application/vnd.jupyter.widget-view+json": {
       "model_id": "12ce359fb37a430e9247b288cb525ae7",
       "version_major": 2,
       "version_minor": 0
      },
      "text/plain": [
       "  0%|          | 0/78 [00:00<?, ?it/s]"
      ]
     },
     "metadata": {},
     "output_type": "display_data"
    },
    {
     "name": "stdout",
     "output_type": "stream",
     "text": [
      "Test accuracy: 0.6802884615384616\n"
     ]
    },
    {
     "data": {
      "application/vnd.jupyter.widget-view+json": {
       "model_id": "c00dd9d7af14441b83e5d3d6f39fe8a8",
       "version_major": 2,
       "version_minor": 0
      },
      "text/plain": [
       "  0%|          | 0/390 [00:00<?, ?it/s]"
      ]
     },
     "metadata": {},
     "output_type": "display_data"
    },
    {
     "name": "stdout",
     "output_type": "stream",
     "text": [
      "Epoch: 19/20  | Training accuracy: 0.9559294871794872  | Training loss: 0.1381281018257141\n"
     ]
    },
    {
     "data": {
      "application/vnd.jupyter.widget-view+json": {
       "model_id": "f43703d2353140ac91af34c63fc57317",
       "version_major": 2,
       "version_minor": 0
      },
      "text/plain": [
       "  0%|          | 0/78 [00:00<?, ?it/s]"
      ]
     },
     "metadata": {},
     "output_type": "display_data"
    },
    {
     "name": "stdout",
     "output_type": "stream",
     "text": [
      "Test accuracy: 0.6854967948717948\n"
     ]
    }
   ],
   "source": [
    "train(model, epochs, dropout_rate, batch_size, data, \"saver\")\n",
    "# 'saver' : folder created manually in which all the chekpoints are saved"
   ]
  },
  {
   "cell_type": "code",
   "execution_count": 26,
   "id": "fdcb1730",
   "metadata": {},
   "outputs": [],
   "source": [
    "def create_training_set_vectors(model,\n",
    "                               X_train,\n",
    "                               y_train,\n",
    "                               batch_size,\n",
    "                               checkpoint_path,\n",
    "                               image_size,\n",
    "                               distance='hamming'):\n",
    "    \n",
    "        session = tf.Session()\n",
    "        session.run(tf.global_variables_initializer())\n",
    "        \n",
    "        saver = tf.train.Saver()\n",
    "        saver.restore(session, checkpoint_path)\n",
    "        \n",
    "        dense_2_features = []\n",
    "        dense_4_features = []\n",
    "        \n",
    "        for ii in tqdm_notebook(range(len(X_train) // batch_size)):\n",
    "            start_id = ii * batch_size\n",
    "            end_id = start_id + batch_size\n",
    "            \n",
    "            X_batch = X_train[start_id:end_id]\n",
    "            \n",
    "            feed_dict = {model.inputs:X_batch, model.dropout_rate:0.0}\n",
    "            \n",
    "            dense_2, dense_4 = session.run([model.dense_2_features, model.dense_4_features], feed_dict=feed_dict)\n",
    "            \n",
    "            dense_2_features.append(dense_2)\n",
    "            dense_4_features.append(dense_4)\n",
    "            \n",
    "        dense_2_features = np.vstack(dense_2_features)\n",
    "        dense_4_features = np.vstack(dense_4_features)\n",
    "        \n",
    "        if distance == 'hamming':\n",
    "            dense_2_features = np.where(dense_2_features < 0.5, 0, 1)\n",
    "            dense_4_features = np.where(dense_4_features < 0.5, 0, 1)\n",
    "            \n",
    "            training_vectors = np.hstack((dense_2_features, dense_4_features))\n",
    "            \n",
    "            with open(\"hamming_train_vectors.pickle\", \"wb\") as f:\n",
    "                pickle.dump(training_vectors, f)\n",
    "                \n",
    "        elif distance == \"cosine\":\n",
    "            training_vectors = np.hstack((dense_2_features, dense_4_features))\n",
    "            \n",
    "            with open(\"hamming_train_vectors.pickle\", \"wb\") as f:\n",
    "                pickle.dump(training_vectors, f)\n",
    "                \n",
    "            "
   ]
  },
  {
   "cell_type": "code",
   "execution_count": 27,
   "id": "91e72022",
   "metadata": {},
   "outputs": [],
   "source": [
    "model = ImageSearchModel(learning_rate, image_size)"
   ]
  },
  {
   "cell_type": "code",
   "execution_count": 29,
   "id": "61a70e0a",
   "metadata": {},
   "outputs": [
    {
     "name": "stdout",
     "output_type": "stream",
     "text": [
      "INFO:tensorflow:Restoring parameters from saver/model_epoch_6.ckpt\n"
     ]
    },
    {
     "ename": "NotFoundError",
     "evalue": "Restoring from checkpoint failed. This is most likely due to a Variable name or other graph key that is missing from the checkpoint. Please ensure that you have not altered the graph expected based on the checkpoint. Original error:\n\nKey batch_normalization_18/beta not found in checkpoint\n\t [[node save_1/RestoreV2 (defined at <ipython-input-26-b109b43aa80b>:12) ]]\n\nOriginal stack trace for 'save_1/RestoreV2':\n  File \"C:\\Users\\camib\\anaconda3\\lib\\runpy.py\", line 194, in _run_module_as_main\n    return _run_code(code, main_globals, None,\n  File \"C:\\Users\\camib\\anaconda3\\lib\\runpy.py\", line 87, in _run_code\n    exec(code, run_globals)\n  File \"C:\\Users\\camib\\anaconda3\\lib\\site-packages\\ipykernel_launcher.py\", line 16, in <module>\n    app.launch_new_instance()\n  File \"C:\\Users\\camib\\anaconda3\\lib\\site-packages\\traitlets\\config\\application.py\", line 845, in launch_instance\n    app.start()\n  File \"C:\\Users\\camib\\anaconda3\\lib\\site-packages\\ipykernel\\kernelapp.py\", line 612, in start\n    self.io_loop.start()\n  File \"C:\\Users\\camib\\anaconda3\\lib\\site-packages\\tornado\\platform\\asyncio.py\", line 199, in start\n    self.asyncio_loop.run_forever()\n  File \"C:\\Users\\camib\\anaconda3\\lib\\asyncio\\base_events.py\", line 570, in run_forever\n    self._run_once()\n  File \"C:\\Users\\camib\\anaconda3\\lib\\asyncio\\base_events.py\", line 1859, in _run_once\n    handle._run()\n  File \"C:\\Users\\camib\\anaconda3\\lib\\asyncio\\events.py\", line 81, in _run\n    self._context.run(self._callback, *self._args)\n  File \"C:\\Users\\camib\\anaconda3\\lib\\site-packages\\tornado\\ioloop.py\", line 688, in <lambda>\n    lambda f: self._run_callback(functools.partial(callback, future))\n  File \"C:\\Users\\camib\\anaconda3\\lib\\site-packages\\tornado\\ioloop.py\", line 741, in _run_callback\n    ret = callback()\n  File \"C:\\Users\\camib\\anaconda3\\lib\\site-packages\\tornado\\gen.py\", line 814, in inner\n    self.ctx_run(self.run)\n  File \"C:\\Users\\camib\\anaconda3\\lib\\site-packages\\tornado\\gen.py\", line 775, in run\n    yielded = self.gen.send(value)\n  File \"C:\\Users\\camib\\anaconda3\\lib\\site-packages\\ipykernel\\kernelbase.py\", line 365, in process_one\n    yield gen.maybe_future(dispatch(*args))\n  File \"C:\\Users\\camib\\anaconda3\\lib\\site-packages\\tornado\\gen.py\", line 234, in wrapper\n    yielded = ctx_run(next, result)\n  File \"C:\\Users\\camib\\anaconda3\\lib\\site-packages\\ipykernel\\kernelbase.py\", line 268, in dispatch_shell\n    yield gen.maybe_future(handler(stream, idents, msg))\n  File \"C:\\Users\\camib\\anaconda3\\lib\\site-packages\\tornado\\gen.py\", line 234, in wrapper\n    yielded = ctx_run(next, result)\n  File \"C:\\Users\\camib\\anaconda3\\lib\\site-packages\\ipykernel\\kernelbase.py\", line 543, in execute_request\n    self.do_execute(\n  File \"C:\\Users\\camib\\anaconda3\\lib\\site-packages\\tornado\\gen.py\", line 234, in wrapper\n    yielded = ctx_run(next, result)\n  File \"C:\\Users\\camib\\anaconda3\\lib\\site-packages\\ipykernel\\ipkernel.py\", line 306, in do_execute\n    res = shell.run_cell(code, store_history=store_history, silent=silent)\n  File \"C:\\Users\\camib\\anaconda3\\lib\\site-packages\\ipykernel\\zmqshell.py\", line 536, in run_cell\n    return super(ZMQInteractiveShell, self).run_cell(*args, **kwargs)\n  File \"C:\\Users\\camib\\anaconda3\\lib\\site-packages\\IPython\\core\\interactiveshell.py\", line 2894, in run_cell\n    result = self._run_cell(\n  File \"C:\\Users\\camib\\anaconda3\\lib\\site-packages\\IPython\\core\\interactiveshell.py\", line 2940, in _run_cell\n    return runner(coro)\n  File \"C:\\Users\\camib\\anaconda3\\lib\\site-packages\\IPython\\core\\async_helpers.py\", line 68, in _pseudo_sync_runner\n    coro.send(None)\n  File \"C:\\Users\\camib\\anaconda3\\lib\\site-packages\\IPython\\core\\interactiveshell.py\", line 3165, in run_cell_async\n    has_raised = await self.run_ast_nodes(code_ast.body, cell_name,\n  File \"C:\\Users\\camib\\anaconda3\\lib\\site-packages\\IPython\\core\\interactiveshell.py\", line 3357, in run_ast_nodes\n    if (await self.run_code(code, result,  async_=asy)):\n  File \"C:\\Users\\camib\\anaconda3\\lib\\site-packages\\IPython\\core\\interactiveshell.py\", line 3437, in run_code\n    exec(code_obj, self.user_global_ns, self.user_ns)\n  File \"<ipython-input-29-e329074a5668>\", line 1, in <module>\n    create_training_set_vectors(model, X_train, y_train, batch_size, \"saver/model_epoch_6.ckpt\", image_size)\n  File \"<ipython-input-26-b109b43aa80b>\", line 12, in create_training_set_vectors\n    saver = tf.train.Saver()\n  File \"C:\\Users\\camib\\anaconda3\\lib\\site-packages\\tensorflow\\python\\training\\saver.py\", line 835, in __init__\n    self.build()\n  File \"C:\\Users\\camib\\anaconda3\\lib\\site-packages\\tensorflow\\python\\training\\saver.py\", line 847, in build\n    self._build(self._filename, build_save=True, build_restore=True)\n  File \"C:\\Users\\camib\\anaconda3\\lib\\site-packages\\tensorflow\\python\\training\\saver.py\", line 875, in _build\n    self.saver_def = self._builder._build_internal(  # pylint: disable=protected-access\n  File \"C:\\Users\\camib\\anaconda3\\lib\\site-packages\\tensorflow\\python\\training\\saver.py\", line 514, in _build_internal\n    restore_op = self._AddRestoreOps(filename_tensor, saveables,\n  File \"C:\\Users\\camib\\anaconda3\\lib\\site-packages\\tensorflow\\python\\training\\saver.py\", line 334, in _AddRestoreOps\n    all_tensors = self.bulk_restore(filename_tensor, saveables, preferred_shard,\n  File \"C:\\Users\\camib\\anaconda3\\lib\\site-packages\\tensorflow\\python\\training\\saver.py\", line 582, in bulk_restore\n    return io_ops.restore_v2(filename_tensor, names, slices, dtypes)\n  File \"C:\\Users\\camib\\anaconda3\\lib\\site-packages\\tensorflow\\python\\ops\\gen_io_ops.py\", line 1507, in restore_v2\n    _, _, _op, _outputs = _op_def_library._apply_op_helper(\n  File \"C:\\Users\\camib\\anaconda3\\lib\\site-packages\\tensorflow\\python\\framework\\op_def_library.py\", line 748, in _apply_op_helper\n    op = g._create_op_internal(op_type_name, inputs, dtypes=None,\n  File \"C:\\Users\\camib\\anaconda3\\lib\\site-packages\\tensorflow\\python\\framework\\ops.py\", line 3528, in _create_op_internal\n    ret = Operation(\n  File \"C:\\Users\\camib\\anaconda3\\lib\\site-packages\\tensorflow\\python\\framework\\ops.py\", line 1990, in __init__\n    self._traceback = tf_stack.extract_stack()\n",
     "output_type": "error",
     "traceback": [
      "\u001b[1;31m---------------------------------------------------------------------------\u001b[0m",
      "\u001b[1;31mNotFoundError\u001b[0m                             Traceback (most recent call last)",
      "\u001b[1;32m~\\anaconda3\\lib\\site-packages\\tensorflow\\python\\client\\session.py\u001b[0m in \u001b[0;36m_do_call\u001b[1;34m(self, fn, *args)\u001b[0m\n\u001b[0;32m   1374\u001b[0m     \u001b[1;32mtry\u001b[0m\u001b[1;33m:\u001b[0m\u001b[1;33m\u001b[0m\u001b[1;33m\u001b[0m\u001b[0m\n\u001b[1;32m-> 1375\u001b[1;33m       \u001b[1;32mreturn\u001b[0m \u001b[0mfn\u001b[0m\u001b[1;33m(\u001b[0m\u001b[1;33m*\u001b[0m\u001b[0margs\u001b[0m\u001b[1;33m)\u001b[0m\u001b[1;33m\u001b[0m\u001b[1;33m\u001b[0m\u001b[0m\n\u001b[0m\u001b[0;32m   1376\u001b[0m     \u001b[1;32mexcept\u001b[0m \u001b[0merrors\u001b[0m\u001b[1;33m.\u001b[0m\u001b[0mOpError\u001b[0m \u001b[1;32mas\u001b[0m \u001b[0me\u001b[0m\u001b[1;33m:\u001b[0m\u001b[1;33m\u001b[0m\u001b[1;33m\u001b[0m\u001b[0m\n",
      "\u001b[1;32m~\\anaconda3\\lib\\site-packages\\tensorflow\\python\\client\\session.py\u001b[0m in \u001b[0;36m_run_fn\u001b[1;34m(feed_dict, fetch_list, target_list, options, run_metadata)\u001b[0m\n\u001b[0;32m   1358\u001b[0m       \u001b[0mself\u001b[0m\u001b[1;33m.\u001b[0m\u001b[0m_extend_graph\u001b[0m\u001b[1;33m(\u001b[0m\u001b[1;33m)\u001b[0m\u001b[1;33m\u001b[0m\u001b[1;33m\u001b[0m\u001b[0m\n\u001b[1;32m-> 1359\u001b[1;33m       return self._call_tf_sessionrun(options, feed_dict, fetch_list,\n\u001b[0m\u001b[0;32m   1360\u001b[0m                                       target_list, run_metadata)\n",
      "\u001b[1;32m~\\anaconda3\\lib\\site-packages\\tensorflow\\python\\client\\session.py\u001b[0m in \u001b[0;36m_call_tf_sessionrun\u001b[1;34m(self, options, feed_dict, fetch_list, target_list, run_metadata)\u001b[0m\n\u001b[0;32m   1450\u001b[0m                           run_metadata):\n\u001b[1;32m-> 1451\u001b[1;33m     return tf_session.TF_SessionRun_wrapper(self._session, options, feed_dict,\n\u001b[0m\u001b[0;32m   1452\u001b[0m                                             \u001b[0mfetch_list\u001b[0m\u001b[1;33m,\u001b[0m \u001b[0mtarget_list\u001b[0m\u001b[1;33m,\u001b[0m\u001b[1;33m\u001b[0m\u001b[1;33m\u001b[0m\u001b[0m\n",
      "\u001b[1;31mNotFoundError\u001b[0m: Key batch_normalization_18/beta not found in checkpoint\n\t [[{{node save_1/RestoreV2}}]]",
      "\nDuring handling of the above exception, another exception occurred:\n",
      "\u001b[1;31mNotFoundError\u001b[0m                             Traceback (most recent call last)",
      "\u001b[1;32m~\\anaconda3\\lib\\site-packages\\tensorflow\\python\\training\\saver.py\u001b[0m in \u001b[0;36mrestore\u001b[1;34m(self, sess, save_path)\u001b[0m\n\u001b[0;32m   1296\u001b[0m       \u001b[1;32melse\u001b[0m\u001b[1;33m:\u001b[0m\u001b[1;33m\u001b[0m\u001b[1;33m\u001b[0m\u001b[0m\n\u001b[1;32m-> 1297\u001b[1;33m         sess.run(self.saver_def.restore_op_name,\n\u001b[0m\u001b[0;32m   1298\u001b[0m                  {self.saver_def.filename_tensor_name: save_path})\n",
      "\u001b[1;32m~\\anaconda3\\lib\\site-packages\\tensorflow\\python\\client\\session.py\u001b[0m in \u001b[0;36mrun\u001b[1;34m(self, fetches, feed_dict, options, run_metadata)\u001b[0m\n\u001b[0;32m    966\u001b[0m     \u001b[1;32mtry\u001b[0m\u001b[1;33m:\u001b[0m\u001b[1;33m\u001b[0m\u001b[1;33m\u001b[0m\u001b[0m\n\u001b[1;32m--> 967\u001b[1;33m       result = self._run(None, fetches, feed_dict, options_ptr,\n\u001b[0m\u001b[0;32m    968\u001b[0m                          run_metadata_ptr)\n",
      "\u001b[1;32m~\\anaconda3\\lib\\site-packages\\tensorflow\\python\\client\\session.py\u001b[0m in \u001b[0;36m_run\u001b[1;34m(self, handle, fetches, feed_dict, options, run_metadata)\u001b[0m\n\u001b[0;32m   1189\u001b[0m     \u001b[1;32mif\u001b[0m \u001b[0mfinal_fetches\u001b[0m \u001b[1;32mor\u001b[0m \u001b[0mfinal_targets\u001b[0m \u001b[1;32mor\u001b[0m \u001b[1;33m(\u001b[0m\u001b[0mhandle\u001b[0m \u001b[1;32mand\u001b[0m \u001b[0mfeed_dict_tensor\u001b[0m\u001b[1;33m)\u001b[0m\u001b[1;33m:\u001b[0m\u001b[1;33m\u001b[0m\u001b[1;33m\u001b[0m\u001b[0m\n\u001b[1;32m-> 1190\u001b[1;33m       results = self._do_run(handle, final_targets, final_fetches,\n\u001b[0m\u001b[0;32m   1191\u001b[0m                              feed_dict_tensor, options, run_metadata)\n",
      "\u001b[1;32m~\\anaconda3\\lib\\site-packages\\tensorflow\\python\\client\\session.py\u001b[0m in \u001b[0;36m_do_run\u001b[1;34m(self, handle, target_list, fetch_list, feed_dict, options, run_metadata)\u001b[0m\n\u001b[0;32m   1367\u001b[0m     \u001b[1;32mif\u001b[0m \u001b[0mhandle\u001b[0m \u001b[1;32mis\u001b[0m \u001b[1;32mNone\u001b[0m\u001b[1;33m:\u001b[0m\u001b[1;33m\u001b[0m\u001b[1;33m\u001b[0m\u001b[0m\n\u001b[1;32m-> 1368\u001b[1;33m       return self._do_call(_run_fn, feeds, fetches, targets, options,\n\u001b[0m\u001b[0;32m   1369\u001b[0m                            run_metadata)\n",
      "\u001b[1;32m~\\anaconda3\\lib\\site-packages\\tensorflow\\python\\client\\session.py\u001b[0m in \u001b[0;36m_do_call\u001b[1;34m(self, fn, *args)\u001b[0m\n\u001b[0;32m   1393\u001b[0m                     'disable_meta_optimizer = True')\n\u001b[1;32m-> 1394\u001b[1;33m       \u001b[1;32mraise\u001b[0m \u001b[0mtype\u001b[0m\u001b[1;33m(\u001b[0m\u001b[0me\u001b[0m\u001b[1;33m)\u001b[0m\u001b[1;33m(\u001b[0m\u001b[0mnode_def\u001b[0m\u001b[1;33m,\u001b[0m \u001b[0mop\u001b[0m\u001b[1;33m,\u001b[0m \u001b[0mmessage\u001b[0m\u001b[1;33m)\u001b[0m\u001b[1;33m\u001b[0m\u001b[1;33m\u001b[0m\u001b[0m\n\u001b[0m\u001b[0;32m   1395\u001b[0m \u001b[1;33m\u001b[0m\u001b[0m\n",
      "\u001b[1;31mNotFoundError\u001b[0m: Key batch_normalization_18/beta not found in checkpoint\n\t [[node save_1/RestoreV2 (defined at <ipython-input-26-b109b43aa80b>:12) ]]\n\nOriginal stack trace for 'save_1/RestoreV2':\n  File \"C:\\Users\\camib\\anaconda3\\lib\\runpy.py\", line 194, in _run_module_as_main\n    return _run_code(code, main_globals, None,\n  File \"C:\\Users\\camib\\anaconda3\\lib\\runpy.py\", line 87, in _run_code\n    exec(code, run_globals)\n  File \"C:\\Users\\camib\\anaconda3\\lib\\site-packages\\ipykernel_launcher.py\", line 16, in <module>\n    app.launch_new_instance()\n  File \"C:\\Users\\camib\\anaconda3\\lib\\site-packages\\traitlets\\config\\application.py\", line 845, in launch_instance\n    app.start()\n  File \"C:\\Users\\camib\\anaconda3\\lib\\site-packages\\ipykernel\\kernelapp.py\", line 612, in start\n    self.io_loop.start()\n  File \"C:\\Users\\camib\\anaconda3\\lib\\site-packages\\tornado\\platform\\asyncio.py\", line 199, in start\n    self.asyncio_loop.run_forever()\n  File \"C:\\Users\\camib\\anaconda3\\lib\\asyncio\\base_events.py\", line 570, in run_forever\n    self._run_once()\n  File \"C:\\Users\\camib\\anaconda3\\lib\\asyncio\\base_events.py\", line 1859, in _run_once\n    handle._run()\n  File \"C:\\Users\\camib\\anaconda3\\lib\\asyncio\\events.py\", line 81, in _run\n    self._context.run(self._callback, *self._args)\n  File \"C:\\Users\\camib\\anaconda3\\lib\\site-packages\\tornado\\ioloop.py\", line 688, in <lambda>\n    lambda f: self._run_callback(functools.partial(callback, future))\n  File \"C:\\Users\\camib\\anaconda3\\lib\\site-packages\\tornado\\ioloop.py\", line 741, in _run_callback\n    ret = callback()\n  File \"C:\\Users\\camib\\anaconda3\\lib\\site-packages\\tornado\\gen.py\", line 814, in inner\n    self.ctx_run(self.run)\n  File \"C:\\Users\\camib\\anaconda3\\lib\\site-packages\\tornado\\gen.py\", line 775, in run\n    yielded = self.gen.send(value)\n  File \"C:\\Users\\camib\\anaconda3\\lib\\site-packages\\ipykernel\\kernelbase.py\", line 365, in process_one\n    yield gen.maybe_future(dispatch(*args))\n  File \"C:\\Users\\camib\\anaconda3\\lib\\site-packages\\tornado\\gen.py\", line 234, in wrapper\n    yielded = ctx_run(next, result)\n  File \"C:\\Users\\camib\\anaconda3\\lib\\site-packages\\ipykernel\\kernelbase.py\", line 268, in dispatch_shell\n    yield gen.maybe_future(handler(stream, idents, msg))\n  File \"C:\\Users\\camib\\anaconda3\\lib\\site-packages\\tornado\\gen.py\", line 234, in wrapper\n    yielded = ctx_run(next, result)\n  File \"C:\\Users\\camib\\anaconda3\\lib\\site-packages\\ipykernel\\kernelbase.py\", line 543, in execute_request\n    self.do_execute(\n  File \"C:\\Users\\camib\\anaconda3\\lib\\site-packages\\tornado\\gen.py\", line 234, in wrapper\n    yielded = ctx_run(next, result)\n  File \"C:\\Users\\camib\\anaconda3\\lib\\site-packages\\ipykernel\\ipkernel.py\", line 306, in do_execute\n    res = shell.run_cell(code, store_history=store_history, silent=silent)\n  File \"C:\\Users\\camib\\anaconda3\\lib\\site-packages\\ipykernel\\zmqshell.py\", line 536, in run_cell\n    return super(ZMQInteractiveShell, self).run_cell(*args, **kwargs)\n  File \"C:\\Users\\camib\\anaconda3\\lib\\site-packages\\IPython\\core\\interactiveshell.py\", line 2894, in run_cell\n    result = self._run_cell(\n  File \"C:\\Users\\camib\\anaconda3\\lib\\site-packages\\IPython\\core\\interactiveshell.py\", line 2940, in _run_cell\n    return runner(coro)\n  File \"C:\\Users\\camib\\anaconda3\\lib\\site-packages\\IPython\\core\\async_helpers.py\", line 68, in _pseudo_sync_runner\n    coro.send(None)\n  File \"C:\\Users\\camib\\anaconda3\\lib\\site-packages\\IPython\\core\\interactiveshell.py\", line 3165, in run_cell_async\n    has_raised = await self.run_ast_nodes(code_ast.body, cell_name,\n  File \"C:\\Users\\camib\\anaconda3\\lib\\site-packages\\IPython\\core\\interactiveshell.py\", line 3357, in run_ast_nodes\n    if (await self.run_code(code, result,  async_=asy)):\n  File \"C:\\Users\\camib\\anaconda3\\lib\\site-packages\\IPython\\core\\interactiveshell.py\", line 3437, in run_code\n    exec(code_obj, self.user_global_ns, self.user_ns)\n  File \"<ipython-input-29-e329074a5668>\", line 1, in <module>\n    create_training_set_vectors(model, X_train, y_train, batch_size, \"saver/model_epoch_6.ckpt\", image_size)\n  File \"<ipython-input-26-b109b43aa80b>\", line 12, in create_training_set_vectors\n    saver = tf.train.Saver()\n  File \"C:\\Users\\camib\\anaconda3\\lib\\site-packages\\tensorflow\\python\\training\\saver.py\", line 835, in __init__\n    self.build()\n  File \"C:\\Users\\camib\\anaconda3\\lib\\site-packages\\tensorflow\\python\\training\\saver.py\", line 847, in build\n    self._build(self._filename, build_save=True, build_restore=True)\n  File \"C:\\Users\\camib\\anaconda3\\lib\\site-packages\\tensorflow\\python\\training\\saver.py\", line 875, in _build\n    self.saver_def = self._builder._build_internal(  # pylint: disable=protected-access\n  File \"C:\\Users\\camib\\anaconda3\\lib\\site-packages\\tensorflow\\python\\training\\saver.py\", line 514, in _build_internal\n    restore_op = self._AddRestoreOps(filename_tensor, saveables,\n  File \"C:\\Users\\camib\\anaconda3\\lib\\site-packages\\tensorflow\\python\\training\\saver.py\", line 334, in _AddRestoreOps\n    all_tensors = self.bulk_restore(filename_tensor, saveables, preferred_shard,\n  File \"C:\\Users\\camib\\anaconda3\\lib\\site-packages\\tensorflow\\python\\training\\saver.py\", line 582, in bulk_restore\n    return io_ops.restore_v2(filename_tensor, names, slices, dtypes)\n  File \"C:\\Users\\camib\\anaconda3\\lib\\site-packages\\tensorflow\\python\\ops\\gen_io_ops.py\", line 1507, in restore_v2\n    _, _, _op, _outputs = _op_def_library._apply_op_helper(\n  File \"C:\\Users\\camib\\anaconda3\\lib\\site-packages\\tensorflow\\python\\framework\\op_def_library.py\", line 748, in _apply_op_helper\n    op = g._create_op_internal(op_type_name, inputs, dtypes=None,\n  File \"C:\\Users\\camib\\anaconda3\\lib\\site-packages\\tensorflow\\python\\framework\\ops.py\", line 3528, in _create_op_internal\n    ret = Operation(\n  File \"C:\\Users\\camib\\anaconda3\\lib\\site-packages\\tensorflow\\python\\framework\\ops.py\", line 1990, in __init__\n    self._traceback = tf_stack.extract_stack()\n",
      "\nDuring handling of the above exception, another exception occurred:\n",
      "\u001b[1;31mRuntimeError\u001b[0m                              Traceback (most recent call last)",
      "\u001b[1;32m~\\anaconda3\\lib\\site-packages\\tensorflow\\python\\training\\py_checkpoint_reader.py\u001b[0m in \u001b[0;36mget_tensor\u001b[1;34m(self, tensor_str)\u001b[0m\n\u001b[0;32m     68\u001b[0m   \u001b[1;32mtry\u001b[0m\u001b[1;33m:\u001b[0m\u001b[1;33m\u001b[0m\u001b[1;33m\u001b[0m\u001b[0m\n\u001b[1;32m---> 69\u001b[1;33m     return CheckpointReader.CheckpointReader_GetTensor(\n\u001b[0m\u001b[0;32m     70\u001b[0m         self, compat.as_bytes(tensor_str))\n",
      "\u001b[1;31mRuntimeError\u001b[0m: Key _CHECKPOINTABLE_OBJECT_GRAPH not found in checkpoint",
      "\nDuring handling of the above exception, another exception occurred:\n",
      "\u001b[1;31mNotFoundError\u001b[0m                             Traceback (most recent call last)",
      "\u001b[1;32m~\\anaconda3\\lib\\site-packages\\tensorflow\\python\\training\\saver.py\u001b[0m in \u001b[0;36mrestore\u001b[1;34m(self, sess, save_path)\u001b[0m\n\u001b[0;32m   1307\u001b[0m       \u001b[1;32mtry\u001b[0m\u001b[1;33m:\u001b[0m\u001b[1;33m\u001b[0m\u001b[1;33m\u001b[0m\u001b[0m\n\u001b[1;32m-> 1308\u001b[1;33m         \u001b[0mnames_to_keys\u001b[0m \u001b[1;33m=\u001b[0m \u001b[0mobject_graph_key_mapping\u001b[0m\u001b[1;33m(\u001b[0m\u001b[0msave_path\u001b[0m\u001b[1;33m)\u001b[0m\u001b[1;33m\u001b[0m\u001b[1;33m\u001b[0m\u001b[0m\n\u001b[0m\u001b[0;32m   1309\u001b[0m       \u001b[1;32mexcept\u001b[0m \u001b[0merrors\u001b[0m\u001b[1;33m.\u001b[0m\u001b[0mNotFoundError\u001b[0m\u001b[1;33m:\u001b[0m\u001b[1;33m\u001b[0m\u001b[1;33m\u001b[0m\u001b[0m\n",
      "\u001b[1;32m~\\anaconda3\\lib\\site-packages\\tensorflow\\python\\training\\saver.py\u001b[0m in \u001b[0;36mobject_graph_key_mapping\u001b[1;34m(checkpoint_path)\u001b[0m\n\u001b[0;32m   1625\u001b[0m   \u001b[0mreader\u001b[0m \u001b[1;33m=\u001b[0m \u001b[0mpy_checkpoint_reader\u001b[0m\u001b[1;33m.\u001b[0m\u001b[0mNewCheckpointReader\u001b[0m\u001b[1;33m(\u001b[0m\u001b[0mcheckpoint_path\u001b[0m\u001b[1;33m)\u001b[0m\u001b[1;33m\u001b[0m\u001b[1;33m\u001b[0m\u001b[0m\n\u001b[1;32m-> 1626\u001b[1;33m   \u001b[0mobject_graph_string\u001b[0m \u001b[1;33m=\u001b[0m \u001b[0mreader\u001b[0m\u001b[1;33m.\u001b[0m\u001b[0mget_tensor\u001b[0m\u001b[1;33m(\u001b[0m\u001b[0mtrackable\u001b[0m\u001b[1;33m.\u001b[0m\u001b[0mOBJECT_GRAPH_PROTO_KEY\u001b[0m\u001b[1;33m)\u001b[0m\u001b[1;33m\u001b[0m\u001b[1;33m\u001b[0m\u001b[0m\n\u001b[0m\u001b[0;32m   1627\u001b[0m   \u001b[0mobject_graph_proto\u001b[0m \u001b[1;33m=\u001b[0m \u001b[1;33m(\u001b[0m\u001b[0mtrackable_object_graph_pb2\u001b[0m\u001b[1;33m.\u001b[0m\u001b[0mTrackableObjectGraph\u001b[0m\u001b[1;33m(\u001b[0m\u001b[1;33m)\u001b[0m\u001b[1;33m)\u001b[0m\u001b[1;33m\u001b[0m\u001b[1;33m\u001b[0m\u001b[0m\n",
      "\u001b[1;32m~\\anaconda3\\lib\\site-packages\\tensorflow\\python\\training\\py_checkpoint_reader.py\u001b[0m in \u001b[0;36mget_tensor\u001b[1;34m(self, tensor_str)\u001b[0m\n\u001b[0;32m     73\u001b[0m   \u001b[1;32mexcept\u001b[0m \u001b[0mRuntimeError\u001b[0m \u001b[1;32mas\u001b[0m \u001b[0me\u001b[0m\u001b[1;33m:\u001b[0m\u001b[1;33m\u001b[0m\u001b[1;33m\u001b[0m\u001b[0m\n\u001b[1;32m---> 74\u001b[1;33m     \u001b[0merror_translator\u001b[0m\u001b[1;33m(\u001b[0m\u001b[0me\u001b[0m\u001b[1;33m)\u001b[0m\u001b[1;33m\u001b[0m\u001b[1;33m\u001b[0m\u001b[0m\n\u001b[0m\u001b[0;32m     75\u001b[0m \u001b[1;33m\u001b[0m\u001b[0m\n",
      "\u001b[1;32m~\\anaconda3\\lib\\site-packages\\tensorflow\\python\\training\\py_checkpoint_reader.py\u001b[0m in \u001b[0;36merror_translator\u001b[1;34m(e)\u001b[0m\n\u001b[0;32m     34\u001b[0m       'matching files for') in error_message:\n\u001b[1;32m---> 35\u001b[1;33m     \u001b[1;32mraise\u001b[0m \u001b[0merrors_impl\u001b[0m\u001b[1;33m.\u001b[0m\u001b[0mNotFoundError\u001b[0m\u001b[1;33m(\u001b[0m\u001b[1;32mNone\u001b[0m\u001b[1;33m,\u001b[0m \u001b[1;32mNone\u001b[0m\u001b[1;33m,\u001b[0m \u001b[0merror_message\u001b[0m\u001b[1;33m)\u001b[0m\u001b[1;33m\u001b[0m\u001b[1;33m\u001b[0m\u001b[0m\n\u001b[0m\u001b[0;32m     36\u001b[0m   elif 'Sliced checkpoints are not supported' in error_message or (\n",
      "\u001b[1;31mNotFoundError\u001b[0m: Key _CHECKPOINTABLE_OBJECT_GRAPH not found in checkpoint",
      "\nDuring handling of the above exception, another exception occurred:\n",
      "\u001b[1;31mNotFoundError\u001b[0m                             Traceback (most recent call last)",
      "\u001b[1;32m<ipython-input-29-e329074a5668>\u001b[0m in \u001b[0;36m<module>\u001b[1;34m\u001b[0m\n\u001b[1;32m----> 1\u001b[1;33m \u001b[0mcreate_training_set_vectors\u001b[0m\u001b[1;33m(\u001b[0m\u001b[0mmodel\u001b[0m\u001b[1;33m,\u001b[0m \u001b[0mX_train\u001b[0m\u001b[1;33m,\u001b[0m \u001b[0my_train\u001b[0m\u001b[1;33m,\u001b[0m \u001b[0mbatch_size\u001b[0m\u001b[1;33m,\u001b[0m \u001b[1;34m\"saver/model_epoch_6.ckpt\"\u001b[0m\u001b[1;33m,\u001b[0m \u001b[0mimage_size\u001b[0m\u001b[1;33m)\u001b[0m\u001b[1;33m\u001b[0m\u001b[1;33m\u001b[0m\u001b[0m\n\u001b[0m",
      "\u001b[1;32m<ipython-input-26-b109b43aa80b>\u001b[0m in \u001b[0;36mcreate_training_set_vectors\u001b[1;34m(model, X_train, y_train, batch_size, checkpoint_path, image_size, distance)\u001b[0m\n\u001b[0;32m     11\u001b[0m \u001b[1;33m\u001b[0m\u001b[0m\n\u001b[0;32m     12\u001b[0m         \u001b[0msaver\u001b[0m \u001b[1;33m=\u001b[0m \u001b[0mtf\u001b[0m\u001b[1;33m.\u001b[0m\u001b[0mtrain\u001b[0m\u001b[1;33m.\u001b[0m\u001b[0mSaver\u001b[0m\u001b[1;33m(\u001b[0m\u001b[1;33m)\u001b[0m\u001b[1;33m\u001b[0m\u001b[1;33m\u001b[0m\u001b[0m\n\u001b[1;32m---> 13\u001b[1;33m         \u001b[0msaver\u001b[0m\u001b[1;33m.\u001b[0m\u001b[0mrestore\u001b[0m\u001b[1;33m(\u001b[0m\u001b[0msession\u001b[0m\u001b[1;33m,\u001b[0m \u001b[0mcheckpoint_path\u001b[0m\u001b[1;33m)\u001b[0m\u001b[1;33m\u001b[0m\u001b[1;33m\u001b[0m\u001b[0m\n\u001b[0m\u001b[0;32m     14\u001b[0m \u001b[1;33m\u001b[0m\u001b[0m\n\u001b[0;32m     15\u001b[0m         \u001b[0mdense_2_features\u001b[0m \u001b[1;33m=\u001b[0m \u001b[1;33m[\u001b[0m\u001b[1;33m]\u001b[0m\u001b[1;33m\u001b[0m\u001b[1;33m\u001b[0m\u001b[0m\n",
      "\u001b[1;32m~\\anaconda3\\lib\\site-packages\\tensorflow\\python\\training\\saver.py\u001b[0m in \u001b[0;36mrestore\u001b[1;34m(self, sess, save_path)\u001b[0m\n\u001b[0;32m   1311\u001b[0m         \u001b[1;31m# is a graph mismatch. Re-raise the original error with\u001b[0m\u001b[1;33m\u001b[0m\u001b[1;33m\u001b[0m\u001b[1;33m\u001b[0m\u001b[0m\n\u001b[0;32m   1312\u001b[0m         \u001b[1;31m# a helpful message (b/110263146)\u001b[0m\u001b[1;33m\u001b[0m\u001b[1;33m\u001b[0m\u001b[1;33m\u001b[0m\u001b[0m\n\u001b[1;32m-> 1313\u001b[1;33m         raise _wrap_restore_error_with_msg(\n\u001b[0m\u001b[0;32m   1314\u001b[0m             err, \"a Variable name or other graph key that is missing\")\n\u001b[0;32m   1315\u001b[0m \u001b[1;33m\u001b[0m\u001b[0m\n",
      "\u001b[1;31mNotFoundError\u001b[0m: Restoring from checkpoint failed. This is most likely due to a Variable name or other graph key that is missing from the checkpoint. Please ensure that you have not altered the graph expected based on the checkpoint. Original error:\n\nKey batch_normalization_18/beta not found in checkpoint\n\t [[node save_1/RestoreV2 (defined at <ipython-input-26-b109b43aa80b>:12) ]]\n\nOriginal stack trace for 'save_1/RestoreV2':\n  File \"C:\\Users\\camib\\anaconda3\\lib\\runpy.py\", line 194, in _run_module_as_main\n    return _run_code(code, main_globals, None,\n  File \"C:\\Users\\camib\\anaconda3\\lib\\runpy.py\", line 87, in _run_code\n    exec(code, run_globals)\n  File \"C:\\Users\\camib\\anaconda3\\lib\\site-packages\\ipykernel_launcher.py\", line 16, in <module>\n    app.launch_new_instance()\n  File \"C:\\Users\\camib\\anaconda3\\lib\\site-packages\\traitlets\\config\\application.py\", line 845, in launch_instance\n    app.start()\n  File \"C:\\Users\\camib\\anaconda3\\lib\\site-packages\\ipykernel\\kernelapp.py\", line 612, in start\n    self.io_loop.start()\n  File \"C:\\Users\\camib\\anaconda3\\lib\\site-packages\\tornado\\platform\\asyncio.py\", line 199, in start\n    self.asyncio_loop.run_forever()\n  File \"C:\\Users\\camib\\anaconda3\\lib\\asyncio\\base_events.py\", line 570, in run_forever\n    self._run_once()\n  File \"C:\\Users\\camib\\anaconda3\\lib\\asyncio\\base_events.py\", line 1859, in _run_once\n    handle._run()\n  File \"C:\\Users\\camib\\anaconda3\\lib\\asyncio\\events.py\", line 81, in _run\n    self._context.run(self._callback, *self._args)\n  File \"C:\\Users\\camib\\anaconda3\\lib\\site-packages\\tornado\\ioloop.py\", line 688, in <lambda>\n    lambda f: self._run_callback(functools.partial(callback, future))\n  File \"C:\\Users\\camib\\anaconda3\\lib\\site-packages\\tornado\\ioloop.py\", line 741, in _run_callback\n    ret = callback()\n  File \"C:\\Users\\camib\\anaconda3\\lib\\site-packages\\tornado\\gen.py\", line 814, in inner\n    self.ctx_run(self.run)\n  File \"C:\\Users\\camib\\anaconda3\\lib\\site-packages\\tornado\\gen.py\", line 775, in run\n    yielded = self.gen.send(value)\n  File \"C:\\Users\\camib\\anaconda3\\lib\\site-packages\\ipykernel\\kernelbase.py\", line 365, in process_one\n    yield gen.maybe_future(dispatch(*args))\n  File \"C:\\Users\\camib\\anaconda3\\lib\\site-packages\\tornado\\gen.py\", line 234, in wrapper\n    yielded = ctx_run(next, result)\n  File \"C:\\Users\\camib\\anaconda3\\lib\\site-packages\\ipykernel\\kernelbase.py\", line 268, in dispatch_shell\n    yield gen.maybe_future(handler(stream, idents, msg))\n  File \"C:\\Users\\camib\\anaconda3\\lib\\site-packages\\tornado\\gen.py\", line 234, in wrapper\n    yielded = ctx_run(next, result)\n  File \"C:\\Users\\camib\\anaconda3\\lib\\site-packages\\ipykernel\\kernelbase.py\", line 543, in execute_request\n    self.do_execute(\n  File \"C:\\Users\\camib\\anaconda3\\lib\\site-packages\\tornado\\gen.py\", line 234, in wrapper\n    yielded = ctx_run(next, result)\n  File \"C:\\Users\\camib\\anaconda3\\lib\\site-packages\\ipykernel\\ipkernel.py\", line 306, in do_execute\n    res = shell.run_cell(code, store_history=store_history, silent=silent)\n  File \"C:\\Users\\camib\\anaconda3\\lib\\site-packages\\ipykernel\\zmqshell.py\", line 536, in run_cell\n    return super(ZMQInteractiveShell, self).run_cell(*args, **kwargs)\n  File \"C:\\Users\\camib\\anaconda3\\lib\\site-packages\\IPython\\core\\interactiveshell.py\", line 2894, in run_cell\n    result = self._run_cell(\n  File \"C:\\Users\\camib\\anaconda3\\lib\\site-packages\\IPython\\core\\interactiveshell.py\", line 2940, in _run_cell\n    return runner(coro)\n  File \"C:\\Users\\camib\\anaconda3\\lib\\site-packages\\IPython\\core\\async_helpers.py\", line 68, in _pseudo_sync_runner\n    coro.send(None)\n  File \"C:\\Users\\camib\\anaconda3\\lib\\site-packages\\IPython\\core\\interactiveshell.py\", line 3165, in run_cell_async\n    has_raised = await self.run_ast_nodes(code_ast.body, cell_name,\n  File \"C:\\Users\\camib\\anaconda3\\lib\\site-packages\\IPython\\core\\interactiveshell.py\", line 3357, in run_ast_nodes\n    if (await self.run_code(code, result,  async_=asy)):\n  File \"C:\\Users\\camib\\anaconda3\\lib\\site-packages\\IPython\\core\\interactiveshell.py\", line 3437, in run_code\n    exec(code_obj, self.user_global_ns, self.user_ns)\n  File \"<ipython-input-29-e329074a5668>\", line 1, in <module>\n    create_training_set_vectors(model, X_train, y_train, batch_size, \"saver/model_epoch_6.ckpt\", image_size)\n  File \"<ipython-input-26-b109b43aa80b>\", line 12, in create_training_set_vectors\n    saver = tf.train.Saver()\n  File \"C:\\Users\\camib\\anaconda3\\lib\\site-packages\\tensorflow\\python\\training\\saver.py\", line 835, in __init__\n    self.build()\n  File \"C:\\Users\\camib\\anaconda3\\lib\\site-packages\\tensorflow\\python\\training\\saver.py\", line 847, in build\n    self._build(self._filename, build_save=True, build_restore=True)\n  File \"C:\\Users\\camib\\anaconda3\\lib\\site-packages\\tensorflow\\python\\training\\saver.py\", line 875, in _build\n    self.saver_def = self._builder._build_internal(  # pylint: disable=protected-access\n  File \"C:\\Users\\camib\\anaconda3\\lib\\site-packages\\tensorflow\\python\\training\\saver.py\", line 514, in _build_internal\n    restore_op = self._AddRestoreOps(filename_tensor, saveables,\n  File \"C:\\Users\\camib\\anaconda3\\lib\\site-packages\\tensorflow\\python\\training\\saver.py\", line 334, in _AddRestoreOps\n    all_tensors = self.bulk_restore(filename_tensor, saveables, preferred_shard,\n  File \"C:\\Users\\camib\\anaconda3\\lib\\site-packages\\tensorflow\\python\\training\\saver.py\", line 582, in bulk_restore\n    return io_ops.restore_v2(filename_tensor, names, slices, dtypes)\n  File \"C:\\Users\\camib\\anaconda3\\lib\\site-packages\\tensorflow\\python\\ops\\gen_io_ops.py\", line 1507, in restore_v2\n    _, _, _op, _outputs = _op_def_library._apply_op_helper(\n  File \"C:\\Users\\camib\\anaconda3\\lib\\site-packages\\tensorflow\\python\\framework\\op_def_library.py\", line 748, in _apply_op_helper\n    op = g._create_op_internal(op_type_name, inputs, dtypes=None,\n  File \"C:\\Users\\camib\\anaconda3\\lib\\site-packages\\tensorflow\\python\\framework\\ops.py\", line 3528, in _create_op_internal\n    ret = Operation(\n  File \"C:\\Users\\camib\\anaconda3\\lib\\site-packages\\tensorflow\\python\\framework\\ops.py\", line 1990, in __init__\n    self._traceback = tf_stack.extract_stack()\n"
     ]
    }
   ],
   "source": [
    "create_training_set_vectors(model, X_train, y_train, batch_size, \"saver/model_epoch_6.ckpt\", image_size)"
   ]
  },
  {
   "cell_type": "code",
   "execution_count": null,
   "id": "5fd1afdb",
   "metadata": {},
   "outputs": [],
   "source": [
    "def simple_inferences(model,\n",
    "                     session,\n",
    "                     train_set_vectors,\n",
    "                     uploaded_image_path,\n",
    "                     image_size,\n",
    "                     distance='hamming'):\n",
    "    \n",
    "    image = image_loader(uploaded_image_path, image_size)\n",
    "    \n",
    "    feed_dict = {model.inputs:[image], model.dropout_rate:0.0}\n",
    "    \n",
    "    dense_2_features, dense_4_features = session.run([model.dense_2_features, model.dense_4_features], feed_dict=feed_dict)\n",
    "    \n",
    "    closest_ids = None\n",
    "    if distance == 'hamming':\n",
    "        dense_2_features = np.where(dense_2_features < 0.5, 0, 1)\n",
    "        dense_4_features = np.where(dense_4_features < 0.5, 0, 1)\n",
    "            \n",
    "        uploaded_image_vector = np.hstack((dense_2_features, dense_4_features))\n",
    "            \n",
    "        closest_ids = hamming_distance(train_set_vectors, uploaded_image_vector)\n",
    "        \n",
    "    elif distance == \"cosine\":\n",
    "        uploaded_image_vector = np.hstack((dense_2_features, dense_4_features))\n",
    "        \n",
    "        closest_ids = cosine_distance(train_set_vectors, uploaded_image_vector)\n",
    "        \n",
    "    return closest_ids"
   ]
  },
  {
   "cell_type": "code",
   "execution_count": null,
   "id": "77646823",
   "metadata": {},
   "outputs": [],
   "source": []
  },
  {
   "cell_type": "code",
   "execution_count": null,
   "id": "9f59603e",
   "metadata": {},
   "outputs": [],
   "source": [
    "model = ImageSearchModel(learning_rate=learning_rate, image_size=image_size)\n",
    "\n",
    "session = tf.Session()\n",
    "session.run(tf.global_variables_initializer())"
   ]
  },
  {
   "cell_type": "code",
   "execution_count": null,
   "id": "cc16742d",
   "metadata": {},
   "outputs": [],
   "source": [
    "saver = tf.train.Saver()\n",
    "saver.restore(session, \"saver/model_epoch_5.ckpt\")"
   ]
  },
  {
   "cell_type": "code",
   "execution_count": null,
   "id": "ba4a7e2a",
   "metadata": {},
   "outputs": [],
   "source": [
    "with open('train_images_pickle.pickle', 'rb') as f:\n",
    "    train_image_paths = pickle.load(f)"
   ]
  },
  {
   "cell_type": "code",
   "execution_count": null,
   "id": "01547c19",
   "metadata": {},
   "outputs": [],
   "source": [
    "train_image_paths[:10]"
   ]
  },
  {
   "cell_type": "code",
   "execution_count": null,
   "id": "58a2cee2",
   "metadata": {},
   "outputs": [],
   "source": [
    "with open('hamming_train_vectors.pickle', 'rb') as f:\n",
    "    train_set_vectors = pickle.load(f)"
   ]
  },
  {
   "cell_type": "code",
   "execution_count": null,
   "id": "0b7a43fa",
   "metadata": {},
   "outputs": [],
   "source": [
    "test_image = 'dataset/test/1052_airplane.png'"
   ]
  },
  {
   "cell_type": "code",
   "execution_count": null,
   "id": "c938190c",
   "metadata": {},
   "outputs": [],
   "source": [
    "result_ids = simple_inference(model, session, train_set_vectors, test_image, image_size, distance='hamming')"
   ]
  },
  {
   "cell_type": "code",
   "execution_count": null,
   "id": "abd85807",
   "metadata": {},
   "outputs": [],
   "source": [
    "plt.imshow(image_loader(test_image, image_size))"
   ]
  },
  {
   "cell_type": "code",
   "execution_count": null,
   "id": "a1b7e6be",
   "metadata": {},
   "outputs": [],
   "source": [
    "w = 10\n",
    "h = 10\n",
    "fig = plt.figure(figsize=(16, 16))\n",
    "columns = 10\n",
    "rows = 5\n",
    "for i in range(1, columns*rows+1):\n",
    "    try:\n",
    "        image = image_loader(train_image_paths[result_ids[i]], image_size)\n",
    "        fig.add_subplot(rows, columns, i)\n",
    "        plt.imshow(image)\n",
    "    except:\n",
    "        pass\n",
    "plt.show()"
   ]
  }
 ],
 "metadata": {
  "kernelspec": {
   "display_name": "Python 3",
   "language": "python",
   "name": "python3"
  },
  "language_info": {
   "codemirror_mode": {
    "name": "ipython",
    "version": 3
   },
   "file_extension": ".py",
   "mimetype": "text/x-python",
   "name": "python",
   "nbconvert_exporter": "python",
   "pygments_lexer": "ipython3",
   "version": "3.8.5"
  }
 },
 "nbformat": 4,
 "nbformat_minor": 5
}
